{
 "cells": [
  {
   "cell_type": "code",
   "execution_count": 1,
   "metadata": {},
   "outputs": [],
   "source": [
    "from uproot_io import Events, View\n",
    "import numpy as np\n",
    "import csv\n",
    "import matplotlib\n",
    "import matplotlib.pyplot as plt\n",
    "\n",
    "filename = r\"C:\\Users\\red20\\Documents\\Physics_Project\\projects\\CheatedRecoFile_1.root\"\n",
    "events = Events(filename)\n",
    "\n",
    "from variables import *\n",
    "from ROC import *\n",
    "from PLOT import *\n",
    "\n",
    "import pandas as pd \n",
    "file = r\"C:\\Users\\red20\\Documents\\Physics_Project\\data.csv\"\n",
    "particle = pd.read_csv(file)"
   ]
  },
  {
   "cell_type": "code",
   "execution_count": 2,
   "metadata": {},
   "outputs": [],
   "source": [
    "minhits = 7\n",
    "\n",
    "protons_idx = pdg_idx(events,2212,minhits,1)\n",
    "pion_plus = pdg_idx(events,211,minhits,1)\n",
    "pion_minus = pdg_idx(events,-211,minhits,1)\n",
    "muon_plus = pdg_idx(events,13,minhits,1)\n",
    "muon_minus = pdg_idx(events,-13,minhits,1) \n",
    "\n",
    "tracks_idx = np.concatenate((protons_idx,pion_plus,pion_minus,muon_plus,muon_minus))\n",
    "\n",
    "electron_idx = pdg_idx(events,-11,minhits,1)\n",
    "positron_idx = pdg_idx(events,11,minhits,1)\n",
    "gamma_idx = pdg_idx(events,22,minhits,1)\n",
    "\n",
    "showers_idx = np.concatenate((gamma_idx,positron_idx,electron_idx))"
   ]
  },
  {
   "cell_type": "code",
   "execution_count": 3,
   "metadata": {},
   "outputs": [],
   "source": [
    "rms_w = particle[\"rms_w\"]\n",
    "rms_v = particle[\"rms_v\"]\n",
    "rms_u = particle[\"rms_u\"]\n",
    "\n",
    "tracks_rms_w = [rms_w[i] for i in tracks_idx]\n",
    "showers_rms_w = [rms_w[i] for i in showers_idx]\n",
    "\n",
    "tracks_rms_v = [rms_v[i] for i in tracks_idx]\n",
    "showers_rms_v = [rms_v[i] for i in showers_idx]\n",
    "\n",
    "tracks_rms_u = [rms_u[i] for i in tracks_idx]\n",
    "showers_rms_u = [rms_u[i] for i in showers_idx]"
   ]
  },
  {
   "cell_type": "code",
   "execution_count": 4,
   "metadata": {},
   "outputs": [
    {
     "data": {
      "image/png": "[encoded data removed]",
      "text/plain": [
       "<Figure size 640x480 with 1 Axes>"
      ]
     },
     "metadata": {},
     "output_type": "display_data"
    }
   ],
   "source": [
    "plot_hist(tracks_rms_w,showers_rms_w,100,4)"
   ]
  },
  {
   "cell_type": "code",
   "execution_count": 22,
   "metadata": {},
   "outputs": [
    {
     "data": {
      "text/plain": [
       "<matplotlib.collections.PathCollection at 0x1aa09171490>"
      ]
     },
     "execution_count": 22,
     "metadata": {},
     "output_type": "execute_result"
    },
    {
     "data": {
      "image/png": "[encoded data removed]",
      "text/plain": [
       "<Figure size 640x480 with 1 Axes>"
      ]
     },
     "metadata": {},
     "output_type": "display_data"
    }
   ],
   "source": [
    "def prob_var(tr,sh,bins):\n",
    "    max_tr = max(tr)\n",
    "    max_sh = max(sh)\n",
    "    min_tr = min(tr)\n",
    "    min_sh = min(sh)\n",
    "    \n",
    "    T_prob = np.array([])\n",
    "    S_prob = np.array([])\n",
    "    \n",
    "    #if max_tr > max_sh:\n",
    "    #    bins_array =np.concatenate(([min_tr],[min_sh + i*((max_tr-min_sh)/bins) for i in range(bins)],[max_tr]))\n",
    "    #else:\n",
    "    #    bins_array =np.concatenate(([min_tr],[min_sh + i*((max_tr-min_sh)/bins) for i in range(bins)],[max_tr,max_sh]))\n",
    "\n",
    "    bins_array =np.concatenate(([min_tr],[min_sh + i*((max_tr-min_sh)/bins) for i in range(bins+1)]))\n",
    "    tr_pdf = np.histogram(tr,bins=bins_array,density=True)[0]\n",
    "    sh_pdf = np.histogram(sh,bins=bins_array,density=True)[0]\n",
    "\n",
    "    for i in range(np.size(bins_array)-1):\n",
    "        if (tr_pdf[i] == 0):\n",
    "            T_prob = np.append(T_prob,0)\n",
    "            S_prob = np.append(S_prob,1)\n",
    "        elif (sh_pdf[i] == 0):\n",
    "            T_prob = np.append(T_prob,1)\n",
    "            S_prob = np.append(S_prob,0)\n",
    "        else:\n",
    "            T_prob = np.append(T_prob,tr_pdf[i]/(sh_pdf[i]+tr_pdf[i]))\n",
    "            S_prob = np.append(S_prob,sh_pdf[i]/(sh_pdf[i]+tr_pdf[i]))\n",
    "\n",
    "    return T_prob,S_prob,bins_array\n",
    "\n",
    "bins = 80\n",
    "P_tr = prob_var(tracks_rms_w,showers_rms_w,bins)[0]\n",
    "P_sh = prob_var(tracks_rms_w,showers_rms_w,bins)[1]\n",
    "b = prob_var(tracks_rms_w,showers_rms_w,bins)[2]\n",
    "\n",
    "plt.scatter(b[:-1],P_tr)"
   ]
  },
  {
   "cell_type": "code",
   "execution_count": 23,
   "metadata": {},
   "outputs": [
    {
     "name": "stdout",
     "output_type": "stream",
     "text": [
      "0.0041789514892348 96.35678814607246\n",
      "0.0219429603974758 90.8045670288188\n"
     ]
    }
   ],
   "source": [
    "training = 0.75\n",
    "tr_training = tracks_rms_u[:int(training*np.size(tracks_rms_u))]\n",
    "sh_training = showers_rms_u[:int(training*np.size(showers_rms_u))]\n",
    "\n",
    "print(min(tr_training),max(tr_training))\n",
    "print(min(sh_training),max(sh_training))\n",
    "\n",
    "#prob_var(tr_training,sh_training,100)"
   ]
  },
  {
   "cell_type": "code",
   "execution_count": 24,
   "metadata": {},
   "outputs": [],
   "source": [
    "def L_var(tr,sh,type):\n",
    "    training = 0.75\n",
    "    tr_training = tr[:int(training*np.size(tr))]\n",
    "    sh_training = sh[:int(training*np.size(sh))]\n",
    "    tr_test = tr[int(training*np.size(tr)):]\n",
    "    sh_test = tr[int(training*np.size(sh)):]\n",
    "    tr_test_prob = np.array([])\n",
    "    sh_test_prob = np.array([])\n",
    "    \n",
    "    bins = 80\n",
    "    T_prob = prob_var(tr_training,sh_training,bins)[0]\n",
    "    S_prob = prob_var(tr_training,sh_training,bins)[1]\n",
    "    bins_array = prob_var(tr_training,sh_training,bins)[2]\n",
    "    \n",
    "    if type == \"s\":\n",
    "        for i in tr_test:\n",
    "            if i < bins_array[0]:\n",
    "                tr_test_prob = np.append(tr_test_prob,1)\n",
    "                sh_test_prob = np.append(sh_test_prob,0)\n",
    "            if i > bins_array[-1]:\n",
    "                tr_test_prob = np.append(tr_test_prob,0)\n",
    "                sh_test_prob = np.append(sh_test_prob,1)\n",
    "            else:\n",
    "                for j in range(np.size(bins_array)-1):\n",
    "                    if bins_array[j] < i < bins_array[j+1]:\n",
    "                        tr_test_prob = np.append(tr_test_prob,T_prob[j])\n",
    "                        sh_test_prob = np.append(sh_test_prob,S_prob[j])\n",
    "        return tr_test_prob,sh_test_prob\n",
    "\n",
    "    if type == \"t\":\n",
    "        for i in sh_test:\n",
    "            if i < bins_array[0]:\n",
    "                tr_test_prob = np.append(tr_test_prob,1)\n",
    "                sh_test_prob = np.append(sh_test_prob,0)\n",
    "            if i > bins_array[-1]:\n",
    "                tr_test_prob = np.append(tr_test_prob,0)\n",
    "                sh_test_prob = np.append(sh_test_prob,1)\n",
    "            else:\n",
    "                for j in range(np.size(bins_array)-1):\n",
    "                    if bins_array[j] < i < bins_array[j+1]:\n",
    "                        tr_test_prob = np.append(tr_test_prob,T_prob[j])\n",
    "                        sh_test_prob = np.append(sh_test_prob,S_prob[j])\n",
    "        return tr_test_prob,sh_test_prob\n",
    "\n",
    "    \n"
   ]
  },
  {
   "cell_type": "code",
   "execution_count": 26,
   "metadata": {},
   "outputs": [],
   "source": [
    "Tu_asT, Su_asT = L_var(tracks_rms_u,showers_rms_u,\"t\")[0], L_var(tracks_rms_u,showers_rms_u,\"t\")[1]\n",
    "Tv_asT, Sv_asT = L_var(tracks_rms_v,showers_rms_v,\"t\")[0], L_var(tracks_rms_v,showers_rms_v,\"t\")[1]\n",
    "Tw_asT, Sw_asT = L_var(tracks_rms_w,showers_rms_w,\"t\")[0], L_var(tracks_rms_w,showers_rms_w,\"t\")[1]\n",
    "\n",
    "Tw_asT = np.append(Tw_asT,0.9)\n",
    "Sw_asT = np.append(Sw_asT,0.9)\n",
    "\n"
   ]
  },
  {
   "cell_type": "code",
   "execution_count": 29,
   "metadata": {},
   "outputs": [
    {
     "ename": "ValueError",
     "evalue": "operands could not be broadcast together with shapes (6712,) (14409,) ",
     "output_type": "error",
     "traceback": [
      "\u001b[1;31m---------------------------------------------------------------------------\u001b[0m",
      "\u001b[1;31mValueError\u001b[0m                                Traceback (most recent call last)",
      "\u001b[1;32m~\\AppData\\Local\\Temp\\ipykernel_2440\\498355643.py\u001b[0m in \u001b[0;36m<module>\u001b[1;34m\u001b[0m\n\u001b[0;32m      6\u001b[0m \u001b[0mSw_asS\u001b[0m \u001b[1;33m=\u001b[0m \u001b[0mnp\u001b[0m\u001b[1;33m.\u001b[0m\u001b[0mappend\u001b[0m\u001b[1;33m(\u001b[0m\u001b[0mSw_asT\u001b[0m\u001b[1;33m,\u001b[0m\u001b[1;36m0.9\u001b[0m\u001b[1;33m)\u001b[0m\u001b[1;33m\u001b[0m\u001b[1;33m\u001b[0m\u001b[0m\n\u001b[0;32m      7\u001b[0m \u001b[1;33m\u001b[0m\u001b[0m\n\u001b[1;32m----> 8\u001b[1;33m \u001b[0mLS_tr\u001b[0m \u001b[1;33m=\u001b[0m \u001b[0mTu_asS\u001b[0m\u001b[1;33m*\u001b[0m\u001b[0mTv_asS\u001b[0m\u001b[1;33m*\u001b[0m\u001b[0mTw_asS\u001b[0m\u001b[1;33m\u001b[0m\u001b[1;33m\u001b[0m\u001b[0m\n\u001b[0m\u001b[0;32m      9\u001b[0m \u001b[0mLS_sh\u001b[0m \u001b[1;33m=\u001b[0m \u001b[0mSu_asS\u001b[0m\u001b[1;33m*\u001b[0m\u001b[0mSv_asS\u001b[0m\u001b[1;33m*\u001b[0m\u001b[0mSw_asS\u001b[0m\u001b[1;33m\u001b[0m\u001b[1;33m\u001b[0m\u001b[0m\n\u001b[0;32m     10\u001b[0m \u001b[1;33m\u001b[0m\u001b[0m\n",
      "\u001b[1;31mValueError\u001b[0m: operands could not be broadcast together with shapes (6712,) (14409,) "
     ]
    }
   ],
   "source": [
    "Tu_asS, Su_asS = L_var(tracks_rms_u,showers_rms_u,\"s\")[0], L_var(tracks_rms_u,showers_rms_u,\"s\")[1]\n",
    "Tv_asS, Sv_asS = L_var(tracks_rms_v,showers_rms_v,\"s\")[0], L_var(tracks_rms_v,showers_rms_v,\"s\")[1]\n",
    "Tw_asS, Sw_asS = L_var(tracks_rms_w,showers_rms_w,\"s\")[0], L_var(tracks_rms_w,showers_rms_w,\"s\")[1]\n",
    "\n",
    "Tw_asS = np.append(Tw_asT,0.9)\n",
    "Sw_asS = np.append(Sw_asT,0.9)\n",
    "\n",
    "LS_tr = Tu_asS*Tv_asS*Tw_asS\n",
    "LS_sh = Su_asS*Sv_asS*Sw_asS\n",
    "\n",
    "L_bck = [LS_tr[i]/(LS_tr[i]+LS_sh[i]) for i in range(np.size(LS_tr))]"
   ]
  },
  {
   "cell_type": "code",
   "execution_count": 27,
   "metadata": {},
   "outputs": [
    {
     "name": "stderr",
     "output_type": "stream",
     "text": [
      "C:\\Users\\red20\\AppData\\Local\\Temp\\ipykernel_2440\\1886863464.py:4: RuntimeWarning: invalid value encountered in double_scalars\n",
      "  L_sig = [LT_tr[i]/(LT_tr[i]+LT_sh[i]) for i in range(np.size(LT_tr))]\n"
     ]
    },
    {
     "data": {
      "text/plain": [
       "(array([1.035e+03, 2.640e+02, 1.760e+02, 9.200e+01, 1.320e+02, 1.140e+02,\n",
       "        4.900e+01, 1.080e+02, 2.700e+01, 1.050e+02, 1.100e+01, 1.020e+02,\n",
       "        5.500e+01, 6.300e+01, 3.000e+01, 1.500e+01, 6.000e+00, 1.100e+01,\n",
       "        6.600e+01, 1.400e+01, 7.000e+00, 8.300e+01, 9.000e+00, 1.900e+01,\n",
       "        4.800e+01, 1.400e+01, 3.000e+00, 1.180e+02, 8.000e+00, 3.700e+01,\n",
       "        1.100e+01, 4.000e+00, 3.100e+01, 2.000e+00, 1.000e+01, 8.000e+00,\n",
       "        2.000e+00, 6.000e+00, 1.800e+01, 0.000e+00, 6.000e+00, 6.000e+00,\n",
       "        4.800e+01, 1.600e+01, 3.200e+01, 4.900e+01, 5.000e+00, 1.790e+02,\n",
       "        7.000e+00, 1.700e+01, 5.000e+00, 1.200e+01, 3.800e+01, 2.000e+00,\n",
       "        8.000e+00, 1.600e+01, 6.000e+00, 3.300e+01, 3.300e+01, 1.200e+01,\n",
       "        5.000e+00, 1.100e+01, 7.000e+00, 2.000e+00, 0.000e+00, 4.000e+01,\n",
       "        2.100e+01, 6.700e+01, 2.500e+01, 1.200e+01, 1.380e+02, 1.100e+01,\n",
       "        1.000e+01, 1.000e+01, 1.000e+01, 4.300e+01, 3.000e+00, 5.000e+00,\n",
       "        1.000e+00, 1.700e+01, 1.320e+02, 4.300e+01, 2.700e+01, 8.000e+00,\n",
       "        2.000e+01, 2.600e+01, 6.700e+01, 5.400e+01, 7.600e+01, 2.900e+01,\n",
       "        0.000e+00, 4.700e+01, 1.200e+02, 5.300e+01, 2.070e+02, 1.800e+01,\n",
       "        1.050e+02, 7.090e+02, 3.830e+02, 8.402e+03]),\n",
       " array([0.  , 0.01, 0.02, 0.03, 0.04, 0.05, 0.06, 0.07, 0.08, 0.09, 0.1 ,\n",
       "        0.11, 0.12, 0.13, 0.14, 0.15, 0.16, 0.17, 0.18, 0.19, 0.2 , 0.21,\n",
       "        0.22, 0.23, 0.24, 0.25, 0.26, 0.27, 0.28, 0.29, 0.3 , 0.31, 0.32,\n",
       "        0.33, 0.34, 0.35, 0.36, 0.37, 0.38, 0.39, 0.4 , 0.41, 0.42, 0.43,\n",
       "        0.44, 0.45, 0.46, 0.47, 0.48, 0.49, 0.5 , 0.51, 0.52, 0.53, 0.54,\n",
       "        0.55, 0.56, 0.57, 0.58, 0.59, 0.6 , 0.61, 0.62, 0.63, 0.64, 0.65,\n",
       "        0.66, 0.67, 0.68, 0.69, 0.7 , 0.71, 0.72, 0.73, 0.74, 0.75, 0.76,\n",
       "        0.77, 0.78, 0.79, 0.8 , 0.81, 0.82, 0.83, 0.84, 0.85, 0.86, 0.87,\n",
       "        0.88, 0.89, 0.9 , 0.91, 0.92, 0.93, 0.94, 0.95, 0.96, 0.97, 0.98,\n",
       "        0.99, 1.  ]),\n",
       " <BarContainer object of 100 artists>)"
      ]
     },
     "execution_count": 27,
     "metadata": {},
     "output_type": "execute_result"
    },
    {
     "data": {
      "image/png": "[encoded data removed]",
      "text/plain": [
       "<Figure size 640x480 with 1 Axes>"
      ]
     },
     "metadata": {},
     "output_type": "display_data"
    }
   ],
   "source": [
    "LT_tr = Tu_asT*Tv_asT*Tw_asT\n",
    "LT_sh = Su_asT*Sv_asT*Sw_asT\n",
    "\n",
    "\n",
    "L_sig = [LT_tr[i]/(LT_tr[i]+LT_sh[i]) for i in range(np.size(LT_tr))]\n",
    "\n",
    "plt.hist(L_sig,100,density=Tr)"
   ]
  }
 ],
 "metadata": {
  "kernelspec": {
   "display_name": "Python 3.9.13 ('base')",
   "language": "python",
   "name": "python3"
  },
  "language_info": {
   "codemirror_mode": {
    "name": "ipython",
    "version": 3
   },
   "file_extension": ".py",
   "mimetype": "text/x-python",
   "name": "python",
   "nbconvert_exporter": "python",
   "pygments_lexer": "ipython3",
   "version": "3.9.13"
  },
  "orig_nbformat": 4,
  "vscode": {
   "interpreter": {
    "hash": "f1c6bf40d51fdecaf38b6934c44b6578588462b0d1bddfc35f41de66fc8e0c13"
   }
  }
 },
 "nbformat": 4,
 "nbformat_minor": 2
}
