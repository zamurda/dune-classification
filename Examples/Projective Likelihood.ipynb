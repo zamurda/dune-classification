{
 "cells": [
  {
   "cell_type": "code",
   "execution_count": 1,
   "metadata": {},
   "outputs": [],
   "source": [
    "from uproot_io import Events, View\n",
    "import numpy as np\n",
    "import csv\n",
    "import matplotlib\n",
    "import matplotlib.pyplot as plt\n",
    "\n",
    "filename = 'projects/CheatedRecoFile_1.root'\n",
    "events = Events(filename)\n",
    "\n",
    "from variables import *\n",
    "from ROC import *\n",
    "from PLOT import *"
   ]
  },
  {
   "cell_type": "code",
   "execution_count": 12,
   "metadata": {},
   "outputs": [],
   "source": [
    "particle_id_dict = {-2212:\"ANTIPROTON\", -321:\"KAON -\", -211:\"PION -\", -13:\"MUON -\", -11:\"ELECTRON\", 0:\"NO BEST MATCH\", 11:\"POSTIRON\", 13:\"MUON +\", 22:\"GAMMA\", 211:\"PION +\", 321:\"KAON +\", 2212:\"PROTON\", 3112:\"SIGMA -\", 3222:\"SIGMA +\"}\n",
    "\n",
    "def pdg_idx(pdg_code,min_hits,purity):\n",
    "    temp = np.where(events.mc_pdg == pdg_code)[0]\n",
    "    idx = [i for i in temp if (events.reco_num_hits_w[i] >= min_hits) and (events.reco_num_hits_u[i] >= min_hits) and (events.reco_num_hits_v[i] >= min_hits) and (events.purity[i] >= purity)]\n",
    "    return idx\n",
    "\n",
    "minhits = 7\n",
    "\n",
    "protons_idx = pdg_idx(2212,minhits,1)\n",
    "pion_plus = pdg_idx(211,minhits,1)\n",
    "pion_minus = pdg_idx(-211,minhits,1)\n",
    "muon_plus = pdg_idx(13,minhits,1)\n",
    "muon_minus = pdg_idx(-13,minhits,1) \n",
    "\n",
    "tracks_idx = np.concatenate((protons_idx,pion_plus,pion_minus,muon_plus,muon_minus))\n",
    "\n",
    "electron_idx = pdg_idx(-11,minhits,1)\n",
    "positron_idx = pdg_idx(11,minhits,1)\n",
    "gamma_idx = pdg_idx(22,minhits,1)\n",
    "\n",
    "showers_idx = np.concatenate((gamma_idx,positron_idx,electron_idx))\n",
    "\n",
    "\n"
   ]
  },
  {
   "cell_type": "code",
   "execution_count": 13,
   "metadata": {},
   "outputs": [
    {
     "name": "stderr",
     "output_type": "stream",
     "text": [
      "c:\\Users\\red20\\Documents\\Physics_Project\\variables.py:60: RankWarning: Polyfit may be poorly conditioned\n",
      "  residuals = particle_data(event_obj,num_particle,direction)[0]\n",
      "c:\\Users\\red20\\Documents\\Physics_Project\\variables.py:60: RankWarning: Polyfit may be poorly conditioned\n",
      "  residuals = particle_data(event_obj,num_particle,direction)[0]\n",
      "c:\\Users\\red20\\Documents\\Physics_Project\\variables.py:60: RankWarning: Polyfit may be poorly conditioned\n",
      "  residuals = particle_data(event_obj,num_particle,direction)[0]\n"
     ]
    },
    {
     "ename": "TypeError",
     "evalue": "expected non-empty vector for x",
     "output_type": "error",
     "traceback": [
      "\u001b[1;31m---------------------------------------------------------------------------\u001b[0m",
      "\u001b[1;31mTypeError\u001b[0m                                 Traceback (most recent call last)",
      "\u001b[1;32m~\\AppData\\Local\\Temp\\ipykernel_14060\\2840840403.py\u001b[0m in \u001b[0;36m<module>\u001b[1;34m\u001b[0m\n\u001b[0;32m      1\u001b[0m \u001b[0mn_particles\u001b[0m \u001b[1;33m=\u001b[0m \u001b[1;36m4000\u001b[0m\u001b[1;33m\u001b[0m\u001b[1;33m\u001b[0m\u001b[0m\n\u001b[0;32m      2\u001b[0m \u001b[1;33m\u001b[0m\u001b[0m\n\u001b[1;32m----> 3\u001b[1;33m \u001b[0mtracks_rms_w\u001b[0m \u001b[1;33m=\u001b[0m \u001b[1;33m[\u001b[0m\u001b[0mparticle_rms\u001b[0m\u001b[1;33m(\u001b[0m\u001b[0mevents\u001b[0m\u001b[1;33m,\u001b[0m\u001b[0mi\u001b[0m\u001b[1;33m,\u001b[0m\u001b[1;34m\"w\"\u001b[0m\u001b[1;33m)\u001b[0m \u001b[1;32mfor\u001b[0m \u001b[0mi\u001b[0m \u001b[1;32min\u001b[0m \u001b[0mtracks_idx\u001b[0m\u001b[1;33m]\u001b[0m\u001b[1;33m\u001b[0m\u001b[1;33m\u001b[0m\u001b[0m\n\u001b[0m\u001b[0;32m      4\u001b[0m \u001b[0mshowers_rms_w\u001b[0m \u001b[1;33m=\u001b[0m \u001b[1;33m[\u001b[0m\u001b[0mparticle_rms\u001b[0m\u001b[1;33m(\u001b[0m\u001b[0mevents\u001b[0m\u001b[1;33m,\u001b[0m\u001b[0mi\u001b[0m\u001b[1;33m,\u001b[0m\u001b[1;34m\"w\"\u001b[0m\u001b[1;33m)\u001b[0m \u001b[1;32mfor\u001b[0m \u001b[0mi\u001b[0m \u001b[1;32min\u001b[0m \u001b[0mshowers_idx\u001b[0m\u001b[1;33m]\u001b[0m\u001b[1;33m\u001b[0m\u001b[1;33m\u001b[0m\u001b[0m\n\u001b[0;32m      5\u001b[0m \u001b[1;33m\u001b[0m\u001b[0m\n",
      "\u001b[1;32m~\\AppData\\Local\\Temp\\ipykernel_14060\\2840840403.py\u001b[0m in \u001b[0;36m<listcomp>\u001b[1;34m(.0)\u001b[0m\n\u001b[0;32m      1\u001b[0m \u001b[0mn_particles\u001b[0m \u001b[1;33m=\u001b[0m \u001b[1;36m4000\u001b[0m\u001b[1;33m\u001b[0m\u001b[1;33m\u001b[0m\u001b[0m\n\u001b[0;32m      2\u001b[0m \u001b[1;33m\u001b[0m\u001b[0m\n\u001b[1;32m----> 3\u001b[1;33m \u001b[0mtracks_rms_w\u001b[0m \u001b[1;33m=\u001b[0m \u001b[1;33m[\u001b[0m\u001b[0mparticle_rms\u001b[0m\u001b[1;33m(\u001b[0m\u001b[0mevents\u001b[0m\u001b[1;33m,\u001b[0m\u001b[0mi\u001b[0m\u001b[1;33m,\u001b[0m\u001b[1;34m\"w\"\u001b[0m\u001b[1;33m)\u001b[0m \u001b[1;32mfor\u001b[0m \u001b[0mi\u001b[0m \u001b[1;32min\u001b[0m \u001b[0mtracks_idx\u001b[0m\u001b[1;33m]\u001b[0m\u001b[1;33m\u001b[0m\u001b[1;33m\u001b[0m\u001b[0m\n\u001b[0m\u001b[0;32m      4\u001b[0m \u001b[0mshowers_rms_w\u001b[0m \u001b[1;33m=\u001b[0m \u001b[1;33m[\u001b[0m\u001b[0mparticle_rms\u001b[0m\u001b[1;33m(\u001b[0m\u001b[0mevents\u001b[0m\u001b[1;33m,\u001b[0m\u001b[0mi\u001b[0m\u001b[1;33m,\u001b[0m\u001b[1;34m\"w\"\u001b[0m\u001b[1;33m)\u001b[0m \u001b[1;32mfor\u001b[0m \u001b[0mi\u001b[0m \u001b[1;32min\u001b[0m \u001b[0mshowers_idx\u001b[0m\u001b[1;33m]\u001b[0m\u001b[1;33m\u001b[0m\u001b[1;33m\u001b[0m\u001b[0m\n\u001b[0;32m      5\u001b[0m \u001b[1;33m\u001b[0m\u001b[0m\n",
      "\u001b[1;32mc:\\Users\\red20\\Documents\\Physics_Project\\variables.py\u001b[0m in \u001b[0;36mparticle_rms\u001b[1;34m(event_obj, num_particle, direction)\u001b[0m\n\u001b[0;32m     58\u001b[0m \u001b[1;33m\u001b[0m\u001b[0m\n\u001b[0;32m     59\u001b[0m \u001b[1;32mdef\u001b[0m \u001b[0mparticle_rms\u001b[0m\u001b[1;33m(\u001b[0m\u001b[0mevent_obj\u001b[0m\u001b[1;33m,\u001b[0m\u001b[0mnum_particle\u001b[0m\u001b[1;33m,\u001b[0m\u001b[0mdirection\u001b[0m\u001b[1;33m)\u001b[0m\u001b[1;33m:\u001b[0m\u001b[1;33m\u001b[0m\u001b[1;33m\u001b[0m\u001b[0m\n\u001b[1;32m---> 60\u001b[1;33m     \u001b[0mresiduals\u001b[0m \u001b[1;33m=\u001b[0m \u001b[0mparticle_data\u001b[0m\u001b[1;33m(\u001b[0m\u001b[0mevent_obj\u001b[0m\u001b[1;33m,\u001b[0m\u001b[0mnum_particle\u001b[0m\u001b[1;33m,\u001b[0m\u001b[0mdirection\u001b[0m\u001b[1;33m)\u001b[0m\u001b[1;33m[\u001b[0m\u001b[1;36m0\u001b[0m\u001b[1;33m]\u001b[0m\u001b[1;33m\u001b[0m\u001b[1;33m\u001b[0m\u001b[0m\n\u001b[0m\u001b[0;32m     61\u001b[0m     \u001b[0mrms\u001b[0m \u001b[1;33m=\u001b[0m \u001b[0mnp\u001b[0m\u001b[1;33m.\u001b[0m\u001b[0mstd\u001b[0m\u001b[1;33m(\u001b[0m\u001b[0mresiduals\u001b[0m\u001b[1;33m)\u001b[0m\u001b[1;33m\u001b[0m\u001b[1;33m\u001b[0m\u001b[0m\n\u001b[0;32m     62\u001b[0m     \u001b[1;32mreturn\u001b[0m \u001b[0mrms\u001b[0m\u001b[1;33m\u001b[0m\u001b[1;33m\u001b[0m\u001b[0m\n",
      "\u001b[1;32mc:\\Users\\red20\\Documents\\Physics_Project\\variables.py\u001b[0m in \u001b[0;36mparticle_data\u001b[1;34m(event_obj, num_particle, direction)\u001b[0m\n\u001b[0;32m     23\u001b[0m             \u001b[0mhits_x_direction\u001b[0m \u001b[1;33m=\u001b[0m \u001b[0mnp\u001b[0m\u001b[1;33m.\u001b[0m\u001b[0mappend\u001b[0m\u001b[1;33m(\u001b[0m\u001b[0mhits_x_direction\u001b[0m\u001b[1;33m,\u001b[0m \u001b[0mevent_obj\u001b[0m\u001b[1;33m.\u001b[0m\u001b[0mreco_hits_x_w\u001b[0m\u001b[1;33m[\u001b[0m\u001b[0mnum_particle\u001b[0m\u001b[1;33m]\u001b[0m\u001b[1;33m[\u001b[0m\u001b[0mi\u001b[0m\u001b[1;33m]\u001b[0m\u001b[1;33m)\u001b[0m\u001b[1;33m\u001b[0m\u001b[1;33m\u001b[0m\u001b[0m\n\u001b[0;32m     24\u001b[0m \u001b[1;33m\u001b[0m\u001b[0m\n\u001b[1;32m---> 25\u001b[1;33m     \u001b[0mhits_bf\u001b[0m \u001b[1;33m=\u001b[0m \u001b[0mnp\u001b[0m\u001b[1;33m.\u001b[0m\u001b[0mpolyfit\u001b[0m\u001b[1;33m(\u001b[0m\u001b[0mhits_x\u001b[0m\u001b[1;33m,\u001b[0m\u001b[0mhits_x_direction\u001b[0m\u001b[1;33m,\u001b[0m\u001b[1;36m1\u001b[0m\u001b[1;33m)\u001b[0m\u001b[1;33m\u001b[0m\u001b[1;33m\u001b[0m\u001b[0m\n\u001b[0m\u001b[0;32m     26\u001b[0m     \u001b[0mhits_x_direction_fit\u001b[0m\u001b[1;33m=\u001b[0m \u001b[1;33m[\u001b[0m\u001b[0mi\u001b[0m \u001b[1;33m*\u001b[0m \u001b[0mhits_bf\u001b[0m\u001b[1;33m[\u001b[0m\u001b[1;36m0\u001b[0m\u001b[1;33m]\u001b[0m \u001b[1;33m+\u001b[0m \u001b[0mhits_bf\u001b[0m\u001b[1;33m[\u001b[0m\u001b[1;36m1\u001b[0m\u001b[1;33m]\u001b[0m \u001b[1;32mfor\u001b[0m \u001b[0mi\u001b[0m \u001b[1;32min\u001b[0m \u001b[0mhits_x\u001b[0m\u001b[1;33m]\u001b[0m\u001b[1;33m\u001b[0m\u001b[1;33m\u001b[0m\u001b[0m\n\u001b[0;32m     27\u001b[0m     \u001b[0mresiduals\u001b[0m \u001b[1;33m=\u001b[0m \u001b[0mnp\u001b[0m\u001b[1;33m.\u001b[0m\u001b[0msubtract\u001b[0m\u001b[1;33m(\u001b[0m\u001b[0mhits_x_direction\u001b[0m\u001b[1;33m,\u001b[0m\u001b[0mhits_x_direction_fit\u001b[0m\u001b[1;33m)\u001b[0m\u001b[1;33m\u001b[0m\u001b[1;33m\u001b[0m\u001b[0m\n",
      "\u001b[1;32m<__array_function__ internals>\u001b[0m in \u001b[0;36mpolyfit\u001b[1;34m(*args, **kwargs)\u001b[0m\n",
      "\u001b[1;32mc:\\Users\\red20\\anaconda3\\lib\\site-packages\\numpy\\lib\\polynomial.py\u001b[0m in \u001b[0;36mpolyfit\u001b[1;34m(x, y, deg, rcond, full, w, cov)\u001b[0m\n\u001b[0;32m    628\u001b[0m         \u001b[1;32mraise\u001b[0m \u001b[0mTypeError\u001b[0m\u001b[1;33m(\u001b[0m\u001b[1;34m\"expected 1D vector for x\"\u001b[0m\u001b[1;33m)\u001b[0m\u001b[1;33m\u001b[0m\u001b[1;33m\u001b[0m\u001b[0m\n\u001b[0;32m    629\u001b[0m     \u001b[1;32mif\u001b[0m \u001b[0mx\u001b[0m\u001b[1;33m.\u001b[0m\u001b[0msize\u001b[0m \u001b[1;33m==\u001b[0m \u001b[1;36m0\u001b[0m\u001b[1;33m:\u001b[0m\u001b[1;33m\u001b[0m\u001b[1;33m\u001b[0m\u001b[0m\n\u001b[1;32m--> 630\u001b[1;33m         \u001b[1;32mraise\u001b[0m \u001b[0mTypeError\u001b[0m\u001b[1;33m(\u001b[0m\u001b[1;34m\"expected non-empty vector for x\"\u001b[0m\u001b[1;33m)\u001b[0m\u001b[1;33m\u001b[0m\u001b[1;33m\u001b[0m\u001b[0m\n\u001b[0m\u001b[0;32m    631\u001b[0m     \u001b[1;32mif\u001b[0m \u001b[0my\u001b[0m\u001b[1;33m.\u001b[0m\u001b[0mndim\u001b[0m \u001b[1;33m<\u001b[0m \u001b[1;36m1\u001b[0m \u001b[1;32mor\u001b[0m \u001b[0my\u001b[0m\u001b[1;33m.\u001b[0m\u001b[0mndim\u001b[0m \u001b[1;33m>\u001b[0m \u001b[1;36m2\u001b[0m\u001b[1;33m:\u001b[0m\u001b[1;33m\u001b[0m\u001b[1;33m\u001b[0m\u001b[0m\n\u001b[0;32m    632\u001b[0m         \u001b[1;32mraise\u001b[0m \u001b[0mTypeError\u001b[0m\u001b[1;33m(\u001b[0m\u001b[1;34m\"expected 1D or 2D array for y\"\u001b[0m\u001b[1;33m)\u001b[0m\u001b[1;33m\u001b[0m\u001b[1;33m\u001b[0m\u001b[0m\n",
      "\u001b[1;31mTypeError\u001b[0m: expected non-empty vector for x"
     ]
    }
   ],
   "source": [
    "n_particles = 4000\n",
    "\n",
    "tracks_rms_w = [particle_rms(events,i,\"w\") for i in tracks_idx]\n",
    "showers_rms_w = [particle_rms(events,i,\"w\") for i in showers_idx]\n",
    "\n"
   ]
  },
  {
   "cell_type": "code",
   "execution_count": 5,
   "metadata": {},
   "outputs": [],
   "source": [
    "def L_trackvar(tr,sh,bins,z_score):\n",
    "    max_tr = np.mean(tr)+(z_score)*np.std(tr)\n",
    "    max_sh = np.mean(sh)+(z_score)*np.std(sh)\n",
    "    \n",
    "    min_sh = min(sh)\n",
    "    min_tr = min(tr)\n",
    "    L_tr = np.array([])\n",
    "    \n",
    "    bins_array =np.concatenate(([min_tr],[min_sh + i*((max_tr-min_sh)/bins) for i in range(bins)],[max_tr,max_sh]))\n",
    "    tr_pdf = np.histogram(tr,bins=bins_array,density=True)[0]\n",
    "    sh_pdf = np.histogram(sh,bins=bins_array,density=True)[0]\n",
    "\n",
    "    for i in range(np.size(bins_array)-1):\n",
    "        if (tr_pdf[i] == 0):\n",
    "            L_tr = np.append(L_tr,0)\n",
    "        elif (sh_pdf[i] == 0):\n",
    "            L_tr = np.append(L_tr,1)\n",
    "        else:\n",
    "            L_tr = np.append(L_tr,tr_pdf[i]/(sh_pdf[i]+tr_pdf[i]))\n",
    "    \n",
    "    \n",
    "    return L_tr,bins_array,tr_pdf,sh_pdf\n",
    "\n",
    "\n",
    "\n"
   ]
  },
  {
   "cell_type": "code",
   "execution_count": 13,
   "metadata": {},
   "outputs": [
    {
     "name": "stdout",
     "output_type": "stream",
     "text": [
      "(array([20323], dtype=int64),)\n",
      "178118\n"
     ]
    }
   ],
   "source": [
    "bins = 200\n",
    "z_score = 5\n",
    "L_tr = L_trackvar(tracks_rms_w,showers_rms_w,bins,z_score)[0]\n",
    "b = L_trackvar(tracks_rms_w,showers_rms_w,bins,z_score)[1]\n",
    "\n",
    "t = L_trackvar(tracks_rms_w,showers_rms_w,bins,z_score)[2]\n",
    "s = L_trackvar(tracks_rms_w,showers_rms_w,bins,z_score)[3]\n",
    "\n",
    "print(np.where(tracks_rms_w == max(tracks_rms_w)))\n",
    "print(tracks_idx[20323])"
   ]
  },
  {
   "cell_type": "code",
   "execution_count": 14,
   "metadata": {},
   "outputs": [
    {
     "data": {
      "text/plain": [
       "<matplotlib.collections.PathCollection at 0x2115158b070>"
      ]
     },
     "execution_count": 14,
     "metadata": {},
     "output_type": "execute_result"
    },
    {
     "data": {
      "image/png": "[encoded data removed]",
      "text/plain": [
       "<Figure size 640x480 with 1 Axes>"
      ]
     },
     "metadata": {},
     "output_type": "display_data"
    }
   ],
   "source": [
    "plt.plot()"
   ]
  }
 ],
 "metadata": {
  "kernelspec": {
   "display_name": "Python 3.9.13 ('base')",
   "language": "python",
   "name": "python3"
  },
  "language_info": {
   "codemirror_mode": {
    "name": "ipython",
    "version": 3
   },
   "file_extension": ".py",
   "mimetype": "text/x-python",
   "name": "python",
   "nbconvert_exporter": "python",
   "pygments_lexer": "ipython3",
   "version": "3.9.13"
  },
  "orig_nbformat": 4,
  "vscode": {
   "interpreter": {
    "hash": "f1c6bf40d51fdecaf38b6934c44b6578588462b0d1bddfc35f41de66fc8e0c13"
   }
  }
 },
 "nbformat": 4,
 "nbformat_minor": 2
}
