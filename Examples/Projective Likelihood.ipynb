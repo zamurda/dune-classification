{
 "cells": [
  {
   "cell_type": "code",
   "execution_count": 2,
   "metadata": {},
   "outputs": [],
   "source": [
    "from uproot_io import Events, View\n",
    "import numpy as np\n",
    "import random\n",
    "import csv\n",
    "import matplotlib\n",
    "import matplotlib.pyplot as plt\n",
    "\n",
    "filename = r\"C:\\Users\\red20\\Documents\\Physics_Project\\projects\\CheatedRecoFile_1.root\"\n",
    "events = Events(filename)\n",
    "\n",
    "from variables import *\n",
    "from ROC import *\n",
    "from PLOT import *\n",
    "from Projective_Likelihood import *\n",
    "\n",
    "import pandas as pd \n",
    "file = r\"C:\\Users\\red20\\Documents\\Physics_Project\\data.csv\""
   ]
  },
  {
   "cell_type": "code",
   "execution_count": 3,
   "metadata": {},
   "outputs": [],
   "source": [
    "def prob_var(tr,sh,bins):\n",
    "    max_tr = max(tr)\n",
    "    max_sh = max(sh)\n",
    "    min_tr = min(tr)\n",
    "    min_sh = min(sh)\n",
    "    \n",
    "    T_prob = np.array([])\n",
    "    S_prob = np.array([])\n",
    "    \n",
    "    #if max_tr > max_sh:\n",
    "    #    bins_array =np.concatenate(([min_tr],[min_sh + i*((max_tr-min_sh)/bins) for i in range(bins)],[max_tr]))\n",
    "    #else:\n",
    "    #    bins_array =np.concatenate(([min_tr],[min_sh + i*((max_tr-min_sh)/bins) for i in range(bins)],[max_tr,max_sh]))\n",
    "\n",
    "    bins_array =np.concatenate(([min_tr],[min_sh + i*((max_tr-min_sh)/bins) for i in range(bins+1)]))\n",
    "    tr_pdf = np.histogram(tr,bins=bins_array,density=True)[0]\n",
    "    sh_pdf = np.histogram(sh,bins=bins_array,density=True)[0]\n",
    "\n",
    "    for i in range(np.size(bins_array)-1):\n",
    "        if (tr_pdf[i] == 0):\n",
    "            T_prob = np.append(T_prob,0)\n",
    "            S_prob = np.append(S_prob,1)\n",
    "        elif (sh_pdf[i] == 0):\n",
    "            T_prob = np.append(T_prob,1)\n",
    "            S_prob = np.append(S_prob,0)\n",
    "        else:\n",
    "            T_prob = np.append(T_prob,tr_pdf[i]/(sh_pdf[i]+tr_pdf[i]))\n",
    "            S_prob = np.append(S_prob,sh_pdf[i]/(sh_pdf[i]+tr_pdf[i]))\n",
    "\n",
    "    return T_prob,S_prob,bins_array\n"
   ]
  },
  {
   "cell_type": "code",
   "execution_count": null,
   "metadata": {},
   "outputs": [],
   "source": []
  },
  {
   "cell_type": "code",
   "execution_count": 4,
   "metadata": {},
   "outputs": [],
   "source": [
    "def PLA(tr,sh,file):\n",
    "    bins = 30\n",
    "    training = 0.75\n",
    "    tr_training = tr[:int(training*np.size(tr))]\n",
    "    sh_training = sh[:int(training*np.size(sh))]\n",
    "    tr_test =  tr[int(training*np.size(tr)):]\n",
    "    sh_test = sh[int(training*np.size(sh)):]\n",
    "\n",
    "    L_sig_tracks = np.ones_like(tr_test)\n",
    "    L_bck_tracks = np.ones_like(tr_test)\n",
    "    L_sig_showers = np.ones_like(sh_test)\n",
    "    L_bck_showers = np.ones_like(sh_test)\n",
    "\n",
    "    data = pd.read_csv(file)\n",
    "    for col in data.columns:\n",
    "        var = data[col]\n",
    "        tr_training_var = [var[i] for i in tr_training]\n",
    "        sh_training_var = [var[i] for i in sh_training]\n",
    "        tr_test_var = [var[i] for i in tr_test]\n",
    "        sh_test_var =[var[i] for i in sh_test]\n",
    "\n",
    "        T_prob = prob_var(tr_training_var,sh_training_var,bins)[0]\n",
    "        S_prob = prob_var(tr_training_var,sh_training_var,bins)[1]\n",
    "        bins_array = prob_var(tr_training_var,sh_training_var,bins)[2]\n",
    "        tr_test_prob = np.array([])\n",
    "        sh_test_prob = np.array([])\n",
    "\n",
    "        for i in tr_test_var:\n",
    "            if i < bins_array[0]:\n",
    "                tr_test_prob = np.append(tr_test_prob,1)\n",
    "                sh_test_prob = np.append(sh_test_prob,0)\n",
    "            elif i > bins_array[-1]:\n",
    "                tr_test_prob = np.append(tr_test_prob,0)\n",
    "                sh_test_prob = np.append(sh_test_prob,1)\n",
    "            else:\n",
    "                for j in range(np.size(bins_array)-1):\n",
    "                    if bins_array[j] < i < bins_array[j+1]:\n",
    "                        tr_test_prob = np.append(tr_test_prob,T_prob[j])\n",
    "                        sh_test_prob = np.append(sh_test_prob,S_prob[j])\n",
    "        \n",
    "        L_sig_tracks = L_sig_tracks*tr_test_prob\n",
    "        L_bck_tracks = L_bck_tracks*sh_test_prob\n",
    "\n",
    "        tr_test_prob = np.array([])\n",
    "        sh_test_prob = np.array([])\n",
    "\n",
    "        for i in sh_test_var:\n",
    "            if i < bins_array[0]:\n",
    "                tr_test_prob = np.append(tr_test_prob,1)\n",
    "                sh_test_prob = np.append(sh_test_prob,0)\n",
    "            elif i > bins_array[-1]:\n",
    "                tr_test_prob = np.append(tr_test_prob,0)\n",
    "                sh_test_prob = np.append(sh_test_prob,1)\n",
    "            else:\n",
    "                for j in range(np.size(bins_array)-1):\n",
    "                    if bins_array[j] < i < bins_array[j+1]:\n",
    "                        tr_test_prob = np.append(tr_test_prob,T_prob[j])\n",
    "                        sh_test_prob = np.append(sh_test_prob,S_prob[j])\n",
    "\n",
    "        L_sig_showers = L_sig_showers*tr_test_prob\n",
    "        L_bck_showers = L_bck_showers*sh_test_prob\n",
    "        \n",
    "    MVA_tracks = [L_sig_tracks[i]/(L_sig_tracks[i]+L_bck_tracks[i]) for i in range(np.size(L_sig_tracks))]\n",
    "    MVA_showers = [L_sig_showers[i]/(L_sig_showers[i]+L_bck_showers[i]) for i in range(np.size(L_sig_showers))]\n",
    "\n",
    "    return MVA_tracks, MVA_showers"
   ]
  },
  {
   "cell_type": "code",
   "execution_count": 5,
   "metadata": {},
   "outputs": [
    {
     "name": "stderr",
     "output_type": "stream",
     "text": [
      "C:\\Users\\red20\\AppData\\Local\\Temp\\ipykernel_17468\\1491731223.py:64: RuntimeWarning: invalid value encountered in double_scalars\n",
      "  MVA_showers = [L_sig_showers[i]/(L_sig_showers[i]+L_bck_showers[i]) for i in range(np.size(L_sig_showers))]\n"
     ]
    },
    {
     "data": {
      "text/plain": [
       "(array([[1.560e+02, 8.700e+01, 1.900e+01, 2.000e+01, 5.000e+00, 1.000e+01,\n",
       "         6.000e+00, 8.000e+00, 2.000e+00, 7.000e+00, 1.700e+01, 1.000e+00,\n",
       "         1.100e+01, 3.000e+00, 1.000e+00, 1.000e+00, 1.500e+01, 0.000e+00,\n",
       "         1.000e+00, 5.800e+01, 0.000e+00, 0.000e+00, 1.000e+00, 3.000e+00,\n",
       "         1.000e+00, 0.000e+00, 1.700e+01, 0.000e+00, 0.000e+00, 3.300e+01,\n",
       "         0.000e+00, 0.000e+00, 0.000e+00, 0.000e+00, 0.000e+00, 0.000e+00,\n",
       "         0.000e+00, 4.000e+00, 1.050e+02, 0.000e+00, 0.000e+00, 0.000e+00,\n",
       "         0.000e+00, 0.000e+00, 1.000e+00, 0.000e+00, 0.000e+00, 1.000e+00,\n",
       "         0.000e+00, 0.000e+00, 0.000e+00, 0.000e+00, 0.000e+00, 2.000e+01,\n",
       "         0.000e+00, 1.100e+01, 1.300e+01, 2.000e+00, 0.000e+00, 0.000e+00,\n",
       "         0.000e+00, 2.200e+01, 0.000e+00, 0.000e+00, 2.000e+00, 0.000e+00,\n",
       "         4.000e+00, 0.000e+00, 0.000e+00, 3.400e+01, 0.000e+00, 0.000e+00,\n",
       "         0.000e+00, 4.000e+00, 1.000e+00, 3.400e+01, 0.000e+00, 0.000e+00,\n",
       "         3.000e+00, 0.000e+00, 0.000e+00, 0.000e+00, 6.300e+01, 0.000e+00,\n",
       "         0.000e+00, 0.000e+00, 0.000e+00, 8.600e+01, 0.000e+00, 2.830e+02,\n",
       "         0.000e+00, 0.000e+00, 0.000e+00, 0.000e+00, 0.000e+00, 0.000e+00,\n",
       "         0.000e+00, 0.000e+00, 5.374e+03, 2.710e+02],\n",
       "        [2.702e+03, 2.190e+02, 2.100e+01, 4.600e+01, 1.400e+01, 1.300e+01,\n",
       "         2.000e+00, 3.000e+01, 1.400e+01, 7.000e+00, 8.000e+00, 0.000e+00,\n",
       "         7.000e+00, 1.700e+01, 0.000e+00, 4.000e+00, 2.200e+01, 0.000e+00,\n",
       "         0.000e+00, 9.500e+01, 0.000e+00, 0.000e+00, 0.000e+00, 2.000e+00,\n",
       "         0.000e+00, 0.000e+00, 4.000e+00, 0.000e+00, 0.000e+00, 3.800e+01,\n",
       "         0.000e+00, 0.000e+00, 0.000e+00, 0.000e+00, 0.000e+00, 0.000e+00,\n",
       "         0.000e+00, 7.000e+00, 1.310e+02, 0.000e+00, 0.000e+00, 0.000e+00,\n",
       "         0.000e+00, 0.000e+00, 0.000e+00, 0.000e+00, 0.000e+00, 0.000e+00,\n",
       "         0.000e+00, 0.000e+00, 0.000e+00, 0.000e+00, 0.000e+00, 1.000e+00,\n",
       "         0.000e+00, 1.500e+01, 1.000e+00, 0.000e+00, 0.000e+00, 0.000e+00,\n",
       "         0.000e+00, 2.000e+00, 0.000e+00, 0.000e+00, 0.000e+00, 0.000e+00,\n",
       "         2.000e+00, 0.000e+00, 0.000e+00, 4.000e+00, 0.000e+00, 0.000e+00,\n",
       "         0.000e+00, 0.000e+00, 0.000e+00, 3.600e+01, 0.000e+00, 0.000e+00,\n",
       "         0.000e+00, 0.000e+00, 0.000e+00, 0.000e+00, 2.000e+01, 0.000e+00,\n",
       "         0.000e+00, 0.000e+00, 0.000e+00, 1.700e+01, 0.000e+00, 2.080e+02,\n",
       "         0.000e+00, 0.000e+00, 1.000e+00, 0.000e+00, 0.000e+00, 0.000e+00,\n",
       "         0.000e+00, 0.000e+00, 4.320e+02, 4.000e+00]]),\n",
       " array([0.  , 0.01, 0.02, 0.03, 0.04, 0.05, 0.06, 0.07, 0.08, 0.09, 0.1 ,\n",
       "        0.11, 0.12, 0.13, 0.14, 0.15, 0.16, 0.17, 0.18, 0.19, 0.2 , 0.21,\n",
       "        0.22, 0.23, 0.24, 0.25, 0.26, 0.27, 0.28, 0.29, 0.3 , 0.31, 0.32,\n",
       "        0.33, 0.34, 0.35, 0.36, 0.37, 0.38, 0.39, 0.4 , 0.41, 0.42, 0.43,\n",
       "        0.44, 0.45, 0.46, 0.47, 0.48, 0.49, 0.5 , 0.51, 0.52, 0.53, 0.54,\n",
       "        0.55, 0.56, 0.57, 0.58, 0.59, 0.6 , 0.61, 0.62, 0.63, 0.64, 0.65,\n",
       "        0.66, 0.67, 0.68, 0.69, 0.7 , 0.71, 0.72, 0.73, 0.74, 0.75, 0.76,\n",
       "        0.77, 0.78, 0.79, 0.8 , 0.81, 0.82, 0.83, 0.84, 0.85, 0.86, 0.87,\n",
       "        0.88, 0.89, 0.9 , 0.91, 0.92, 0.93, 0.94, 0.95, 0.96, 0.97, 0.98,\n",
       "        0.99, 1.  ]),\n",
       " <a list of 2 list[Polygon] objects>)"
      ]
     },
     "execution_count": 5,
     "metadata": {},
     "output_type": "execute_result"
    },
    {
     "data": {
      "image/png": "[encoded data removed]",
      "text/plain": [
       "<Figure size 640x480 with 1 Axes>"
      ]
     },
     "metadata": {},
     "output_type": "display_data"
    }
   ],
   "source": [
    "tracks = tracks_idx(events,7,0.8)\n",
    "showers = showers_idx(events,7,0.8)\n",
    "\n",
    "L_tr, L_sh = PLA(tracks,showers,file)\n",
    "\n",
    "plt.hist((L_tr,L_sh),100,histtype='step')"
   ]
  },
  {
   "cell_type": "code",
   "execution_count": 6,
   "metadata": {},
   "outputs": [
    {
     "name": "stdout",
     "output_type": "stream",
     "text": [
      "Best divide is at 0.39\n",
      "Best efficiency is 0.8518518518518519 Best purity is 0.8208343380757174\n"
     ]
    },
    {
     "data": {
      "image/png": "[encoded data removed]",
      "text/plain": [
       "<Figure size 640x480 with 1 Axes>"
      ]
     },
     "metadata": {},
     "output_type": "display_data"
    }
   ],
   "source": [
    "plot_ROC(L_sh,L_tr)"
   ]
  },
  {
   "cell_type": "code",
   "execution_count": 7,
   "metadata": {},
   "outputs": [
    {
     "name": "stdout",
     "output_type": "stream",
     "text": [
      "[[0.90777464169202, 0.18696491016519956], [0.09222535830797991, 0.8130350898348004]]\n"
     ]
    }
   ],
   "source": [
    "print(MVAconf(tracks,showers,0.4,file))"
   ]
  },
  {
   "cell_type": "code",
   "execution_count": 9,
   "metadata": {},
   "outputs": [
    {
     "data": {
      "text/plain": [
       "array([[1.        , 0.54665541, 0.52872409],\n",
       "       [0.54665541, 1.        , 0.53633276],\n",
       "       [0.52872409, 0.53633276, 1.        ]])"
      ]
     },
     "execution_count": 9,
     "metadata": {},
     "output_type": "execute_result"
    }
   ],
   "source": [
    "p = pd.read_csv(file)\n",
    "np.corrcoef(p,rowvar = False)\n"
   ]
  }
 ],
 "metadata": {
  "kernelspec": {
   "display_name": "Python 3.9.13 ('base')",
   "language": "python",
   "name": "python3"
  },
  "language_info": {
   "codemirror_mode": {
    "name": "ipython",
    "version": 3
   },
   "file_extension": ".py",
   "mimetype": "text/x-python",
   "name": "python",
   "nbconvert_exporter": "python",
   "pygments_lexer": "ipython3",
   "version": "3.9.15"
  },
  "orig_nbformat": 4,
  "vscode": {
   "interpreter": {
    "hash": "f1c6bf40d51fdecaf38b6934c44b6578588462b0d1bddfc35f41de66fc8e0c13"
   }
  }
 },
 "nbformat": 4,
 "nbformat_minor": 2
}
