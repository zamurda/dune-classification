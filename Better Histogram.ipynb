{
 "cells": [
  {
   "cell_type": "code",
   "execution_count": 2,
   "metadata": {},
   "outputs": [],
   "source": [
    "from uproot_io import Events, View\n",
    "#from event_plot import *\n",
    "import numpy as np\n",
    "import csv\n",
    "import matplotlib\n",
    "import matplotlib.pyplot as plt\n",
    "#import settings\n",
    "#settings.init()"
   ]
  },
  {
   "cell_type": "code",
   "execution_count": 3,
   "metadata": {},
   "outputs": [],
   "source": [
    "interaction_dictionary = {}\n",
    "with open('interactions.csv') as f:\n",
    "    reader = csv.DictReader(f)\n",
    "    for row in reader:\n",
    "        key = int(row.pop('Idx'))\n",
    "        interaction = row.pop('Interaction')\n",
    "        interaction_dictionary[key] = interaction\n",
    "        \n",
    "particle_id_dict = {-2212:\"ANTIPROTON\", -321:\"KAON -\", -211:\"PION -\", -13:\"MUON -\", -11:\"ELECTRON\", 0:\"NO BEST MATCH\", 11:\"POSTIRON\", 13:\"MUON +\", 22:\"GAMMA\", 211:\"PION +\", 321:\"KAON +\", 2212:\"PROTON\", 3112:\"SIGMA -\", 3222:\"SIGMA +\"}\n",
    "filename = \"projects\\CheatedRecoFile_1.root\"\n",
    "events = Events(filename)"
   ]
  },
  {
   "cell_type": "code",
   "execution_count": 4,
   "metadata": {},
   "outputs": [],
   "source": [
    "def pdg_idx(pdg_code,min_hits):\n",
    "    temp = np.where(events.mc_pdg == pdg_code)[0]\n",
    "    idx = [i for i in temp if events.reco_num_hits_w[i] > min_hits]\n",
    "    return idx"
   ]
  },
  {
   "cell_type": "code",
   "execution_count": 5,
   "metadata": {},
   "outputs": [],
   "source": [
    "def particle_rms_w(num_particle):\n",
    "    hits_x_w=np.array([])\n",
    "    hits_x=np.array([])\n",
    "    for i in range(events.reco_num_hits_w[num_particle]):\n",
    "        hits_x = np.append(hits_x, events.reco_hits_w[num_particle][i])\n",
    "        hits_x_w = np.append(hits_x_w, events.reco_hits_x_w[num_particle][i])\n",
    "    hits_bf = np.polyfit(hits_x,hits_x_w,1)\n",
    "    hits_x_w_fit= [i * hits_bf[0] + hits_bf[1] for i in hits_x]\n",
    "    residuals = np.subtract(hits_x_w,hits_x_w_fit)\n",
    "    rms = np.std(residuals)\n",
    "    return rms\n",
    "\n",
    "\n",
    "def particle_disp_w(num_particle):\n",
    "    length = ((events.reco_hits_w[num_particle][0]-events.reco_hits_w[num_particle][-1])**2 + (events.reco_hits_x_w[num_particle][0]-events.reco_hits_x_w[num_particle][-1])**2)**0.5\n",
    "    return length\n",
    "\n",
    "def particle_path_length_w(num_particle):\n",
    "    path_length = 0\n",
    "    for i in range(1,events.reco_num_hits_w[num_particle]):\n",
    "        dx = events.reco_hits_w[num_particle][i] - events.reco_hits_w[num_particle][i-1]\n",
    "        dy = events.reco_hits_x_w[num_particle][i] - events.reco_hits_x_w[num_particle][i-1]\n",
    "        path_length += (dx**2+dy**2)**0.5\n",
    "    return path_length\n",
    "\n",
    "def sinousity_w(num_particle):\n",
    "    return particle_path_length_w(num_particle)/particle_disp_w(num_particle)\n",
    "    "
   ]
  },
  {
   "cell_type": "code",
   "execution_count": 30,
   "metadata": {},
   "outputs": [],
   "source": [
    "proton = pdg_idx(2212,10)\n",
    "pion_plus = pdg_idx(211,10)\n",
    "pion_minus = pdg_idx(-211,10)\n",
    "muon_plus = pdg_idx(13,10)\n",
    "muon_minus = pdg_idx(-13,10) \n",
    "electron = pdg_idx(-11,10)\n",
    "positron = pdg_idx(11,10)\n",
    "gamma = pdg_idx(22,10)\n",
    "\n",
    "proton_rms = [particle_rms_w(i) for i in proton]\n",
    "proton_sinousity = [sinousity_w(i) for i in proton]\n",
    "\n",
    "pion_plus_rms = [particle_rms_w(i) for i in pion_plus]\n",
    "pion_plus_sinousity = [sinousity_w(i) for i in pion_plus]\n",
    "\n",
    "pion_minus_rms = [particle_rms_w(i) for i in pion_minus]\n",
    "pion_minus_sinousity = [sinousity_w(i) for i in pion_minus]\n",
    "\n",
    "electron_rms =  [particle_rms_w(i) for i in electron]\n",
    "electron_sinousity =  [sinousity_w(i) for i in electron]\n",
    "\n",
    "positron_rms =  [particle_rms_w(i) for i in positron]\n",
    "positron_sinousity =  [sinousity_w(i) for i in positron]\n",
    "\n",
    "gamma_rms =  [particle_rms_w(i) for i in gamma]\n",
    "gamma_sinousity = [sinousity_w(i) for i in gamma]"
   ]
  },
  {
   "cell_type": "code",
   "execution_count": 25,
   "metadata": {},
   "outputs": [
    {
     "data": {
      "text/plain": [
       "(array([0.00102648, 0.00133443, 0.00153972, 0.0029768 , 0.00513242,\n",
       "        0.00626155, 0.00451653, 0.00564566, 0.00492712, 0.0059536 ,\n",
       "        0.00513242, 0.0063642 , 0.00667214, 0.00564566, 0.00523506,\n",
       "        0.00585095, 0.0059536 , 0.00646684, 0.00626155, 0.00656949,\n",
       "        0.0089304 , 0.00718538, 0.00954629, 0.00821187, 0.00759598,\n",
       "        0.00574831, 0.00851981, 0.00821187, 0.00544036, 0.00728803,\n",
       "        0.00851981, 0.00728803, 0.00656949, 0.0089304 , 0.00831451,\n",
       "        0.00769862, 0.00903305, 0.00882776, 0.01016218, 0.009341  ,\n",
       "        0.00810922, 0.00810922, 0.00954629, 0.00769862, 0.00954629,\n",
       "        0.01005954, 0.00862246, 0.01026483, 0.00882776, 0.0089304 ,\n",
       "        0.00964894, 0.00882776, 0.01026483, 0.00749333, 0.00975159,\n",
       "        0.01026483, 0.00872511, 0.00944365, 0.00841716, 0.01005954,\n",
       "        0.01118867, 0.01190721, 0.01026483, 0.00841716, 0.01036748,\n",
       "        0.00964894, 0.01159926, 0.00841716, 0.00739068, 0.00903305,\n",
       "        0.00790392, 0.00821187, 0.00903305, 0.00964894, 0.00851981,\n",
       "        0.01098337, 0.00862246, 0.00851981, 0.00749333, 0.00964894,\n",
       "        0.00975159, 0.00831451, 0.00903305, 0.00687744, 0.00769862,\n",
       "        0.00800657, 0.00718538, 0.00780127, 0.00769862, 0.00851981,\n",
       "        0.00728803, 0.00605625, 0.0059536 , 0.0063642 , 0.00554301,\n",
       "        0.00585095, 0.00677479, 0.00677479, 0.00431123, 0.00554301,\n",
       "        0.00708273, 0.00564566, 0.00472182, 0.00472182, 0.00482447,\n",
       "        0.00502977, 0.00379799, 0.00359269, 0.00431123, 0.00492712,\n",
       "        0.00441388, 0.0029768 , 0.00400328, 0.00338739, 0.00338739,\n",
       "        0.00523506, 0.00369534, 0.00328475, 0.00431123, 0.00215561,\n",
       "        0.00359269, 0.00236091, 0.0029768 , 0.00349004, 0.00215561,\n",
       "        0.00256621, 0.00359269, 0.00369534, 0.00236091, 0.00287415,\n",
       "        0.0029768 , 0.00246356, 0.00205297, 0.00205297, 0.00195032,\n",
       "        0.00195032, 0.00133443, 0.00205297, 0.00184767, 0.00143708,\n",
       "        0.00174502, 0.00153972, 0.00236091, 0.00133443, 0.00082119,\n",
       "        0.00195032, 0.00215561, 0.00205297, 0.00143708, 0.00195032]),\n",
       " array([ 0. ,  0.1,  0.2,  0.3,  0.4,  0.5,  0.6,  0.7,  0.8,  0.9,  1. ,\n",
       "         1.1,  1.2,  1.3,  1.4,  1.5,  1.6,  1.7,  1.8,  1.9,  2. ,  2.1,\n",
       "         2.2,  2.3,  2.4,  2.5,  2.6,  2.7,  2.8,  2.9,  3. ,  3.1,  3.2,\n",
       "         3.3,  3.4,  3.5,  3.6,  3.7,  3.8,  3.9,  4. ,  4.1,  4.2,  4.3,\n",
       "         4.4,  4.5,  4.6,  4.7,  4.8,  4.9,  5. ,  5.1,  5.2,  5.3,  5.4,\n",
       "         5.5,  5.6,  5.7,  5.8,  5.9,  6. ,  6.1,  6.2,  6.3,  6.4,  6.5,\n",
       "         6.6,  6.7,  6.8,  6.9,  7. ,  7.1,  7.2,  7.3,  7.4,  7.5,  7.6,\n",
       "         7.7,  7.8,  7.9,  8. ,  8.1,  8.2,  8.3,  8.4,  8.5,  8.6,  8.7,\n",
       "         8.8,  8.9,  9. ,  9.1,  9.2,  9.3,  9.4,  9.5,  9.6,  9.7,  9.8,\n",
       "         9.9, 10. , 10.1, 10.2, 10.3, 10.4, 10.5, 10.6, 10.7, 10.8, 10.9,\n",
       "        11. , 11.1, 11.2, 11.3, 11.4, 11.5, 11.6, 11.7, 11.8, 11.9, 12. ,\n",
       "        12.1, 12.2, 12.3, 12.4, 12.5, 12.6, 12.7, 12.8, 12.9, 13. , 13.1,\n",
       "        13.2, 13.3, 13.4, 13.5, 13.6, 13.7, 13.8, 13.9, 14. , 14.1, 14.2,\n",
       "        14.3, 14.4, 14.5, 14.6, 14.7, 14.8, 14.9, 15. ]),\n",
       " [<matplotlib.patches.Polygon at 0x26f844e7580>])"
      ]
     },
     "execution_count": 25,
     "metadata": {},
     "output_type": "execute_result"
    },
    {
     "data": {
      "image/png": "[encoded data removed]",
      "text/plain": [
       "<Figure size 640x480 with 1 Axes>"
      ]
     },
     "metadata": {},
     "output_type": "display_data"
    }
   ],
   "source": [
    "\n",
    "#plt.hist([a_rms,b_rms],range=(0,5),bins = 50,histtype = 'step',weights = [(np.ones_like(a_rms)/np.size(a_rms)),(np.ones_like(b_rms)/np.size(b_rms))])\n",
    "\n",
    "A = proton_rms\n",
    "B = gamma_rms\n",
    "\n",
    "plt.hist(A,range=(0,5),histtype='step',bins=50,weights=(np.ones_like(A)/np.size(A)))\n",
    "plt.hist(B,range=(0,15),histtype='step',bins=150,weights=(np.ones_like(B)/np.size(B)))\n"
   ]
  },
  {
   "cell_type": "code",
   "execution_count": 27,
   "metadata": {},
   "outputs": [
    {
     "data": {
      "text/plain": [
       "(array([0.00800657, 0.00882776, 0.00975159, 0.00944365, 0.01108602,\n",
       "        0.01047013, 0.01036748, 0.00800657, 0.00985424, 0.01077807,\n",
       "        0.01088072, 0.00872511, 0.01098337, 0.00985424, 0.01057278,\n",
       "        0.00985424, 0.00954629, 0.009341  , 0.01026483, 0.00780127,\n",
       "        0.00646684, 0.00800657, 0.00749333, 0.00964894, 0.00862246,\n",
       "        0.00975159, 0.00698009, 0.00656949, 0.00821187, 0.0063642 ,\n",
       "        0.00831451, 0.00790392, 0.00687744, 0.00656949, 0.00626155,\n",
       "        0.00677479, 0.0063642 , 0.00667214, 0.0063642 , 0.00862246,\n",
       "        0.00656949, 0.00656949, 0.00687744, 0.00544036, 0.00626155,\n",
       "        0.00492712, 0.0059536 , 0.0061589 , 0.00523506, 0.00554301,\n",
       "        0.00564566, 0.00441388, 0.00544036, 0.00574831, 0.00472182,\n",
       "        0.00626155, 0.00544036, 0.00585095, 0.00605625, 0.00441388,\n",
       "        0.00369534, 0.00451653, 0.00472182, 0.00451653, 0.00513242,\n",
       "        0.00379799, 0.00492712, 0.00420858, 0.00502977, 0.00554301,\n",
       "        0.00461917, 0.00400328, 0.00461917, 0.00554301, 0.00410593,\n",
       "        0.00431123, 0.00420858, 0.00379799, 0.0029768 , 0.00390064]),\n",
       " array([1.  , 1.05, 1.1 , 1.15, 1.2 , 1.25, 1.3 , 1.35, 1.4 , 1.45, 1.5 ,\n",
       "        1.55, 1.6 , 1.65, 1.7 , 1.75, 1.8 , 1.85, 1.9 , 1.95, 2.  , 2.05,\n",
       "        2.1 , 2.15, 2.2 , 2.25, 2.3 , 2.35, 2.4 , 2.45, 2.5 , 2.55, 2.6 ,\n",
       "        2.65, 2.7 , 2.75, 2.8 , 2.85, 2.9 , 2.95, 3.  , 3.05, 3.1 , 3.15,\n",
       "        3.2 , 3.25, 3.3 , 3.35, 3.4 , 3.45, 3.5 , 3.55, 3.6 , 3.65, 3.7 ,\n",
       "        3.75, 3.8 , 3.85, 3.9 , 3.95, 4.  , 4.05, 4.1 , 4.15, 4.2 , 4.25,\n",
       "        4.3 , 4.35, 4.4 , 4.45, 4.5 , 4.55, 4.6 , 4.65, 4.7 , 4.75, 4.8 ,\n",
       "        4.85, 4.9 , 4.95, 5.  ]),\n",
       " [<matplotlib.patches.Polygon at 0x26f84348520>])"
      ]
     },
     "execution_count": 27,
     "metadata": {},
     "output_type": "execute_result"
    },
    {
     "data": {
      "image/png": "[encoded data removed]",
      "text/plain": [
       "<Figure size 640x480 with 1 Axes>"
      ]
     },
     "metadata": {},
     "output_type": "display_data"
    }
   ],
   "source": [
    "C = proton_sinousity\n",
    "D = gamma_sinousity\n",
    "\n",
    "plt.hist(C,range=(1,2),histtype='step',bins=20,weights=(np.ones_like(C)/np.size(C)))\n",
    "plt.hist(D,range=(1,5),histtype='step',bins=80,weights=(np.ones_like(D)/np.size(D)))\n",
    "\n"
   ]
  },
  {
   "cell_type": "code",
   "execution_count": 32,
   "metadata": {},
   "outputs": [],
   "source": [
    "showers = np.concatenate((gamma,electron,positron))\n",
    "tracks = np.concatenate((proton,pion_plus,pion_minus,muon_plus,muon_minus))\n",
    "\n",
    "showers_rms = [ particle_rms_w(i) for i in showers]\n",
    "showers_sinousity = [sinousity_w(i) for i in showers]\n",
    "\n",
    "tracks_rms = [ particle_rms_w(i) for i in tracks]\n",
    "tracks_sinousity = [ sinousity_w(i) for i in tracks]\n"
   ]
  },
  {
   "cell_type": "code",
   "execution_count": 34,
   "metadata": {},
   "outputs": [
    {
     "data": {
      "text/plain": [
       "(array([0.00110647, 0.00258176, 0.00442587, 0.00540939, 0.00799115,\n",
       "        0.0089132 , 0.0089132 , 0.00823703, 0.00805262, 0.00854438,\n",
       "        0.00817556, 0.00866732, 0.00719203, 0.00713056, 0.00682321,\n",
       "        0.0066388 , 0.00633145, 0.00688468, 0.00670027, 0.0066388 ,\n",
       "        0.00866732, 0.00749939, 0.00879026, 0.00737644, 0.00756086,\n",
       "        0.00614704, 0.00774527, 0.00780674, 0.00583969, 0.00676174,\n",
       "        0.00743791, 0.00688468, 0.00633145, 0.00719203, 0.0076838 ,\n",
       "        0.00719203, 0.00719203, 0.00762233, 0.00823703, 0.00811409,\n",
       "        0.00706909, 0.00670027, 0.00774527, 0.00651586, 0.00860585,\n",
       "        0.00823703, 0.00731497, 0.00799115, 0.0072535 , 0.00743791,\n",
       "        0.00762233, 0.00731497, 0.00885173, 0.00620851, 0.00860585,\n",
       "        0.00879026, 0.00731497, 0.00823703, 0.0082985 , 0.0082985 ,\n",
       "        0.00965085, 0.00983526, 0.00842144, 0.00817556, 0.00915909,\n",
       "        0.00854438, 0.01044996, 0.00774527, 0.00676174, 0.00842144,\n",
       "        0.00860585, 0.00786821, 0.0089132 , 0.00946644, 0.00903614,\n",
       "        0.01001967, 0.00866732, 0.00866732, 0.00817556, 0.00922056,\n",
       "        0.00965085, 0.00842144, 0.00897467, 0.00799115, 0.00848291,\n",
       "        0.00817556, 0.00706909, 0.00805262, 0.0082985 , 0.00805262,\n",
       "        0.00774527, 0.00719203, 0.00645439, 0.00762233, 0.00651586,\n",
       "        0.00694615, 0.00713056, 0.00719203, 0.00633145, 0.00608557,\n",
       "        0.0072535 , 0.00583969, 0.00516351, 0.00540939, 0.00577821,\n",
       "        0.00547086, 0.00442587, 0.00399557, 0.00473322, 0.00485616,\n",
       "        0.00467175, 0.00448734, 0.00411851, 0.00350381, 0.00405704,\n",
       "        0.0049791 , 0.00399557, 0.00448734, 0.00411851, 0.00276617,\n",
       "        0.00368822, 0.00245881, 0.0033194 , 0.00313499, 0.0027047 ,\n",
       "        0.00264323, 0.0033194 , 0.0033194 , 0.00221293, 0.00245881,\n",
       "        0.0027047 , 0.0022744 , 0.00184411, 0.00221293, 0.00208999,\n",
       "        0.00258176, 0.00159823, 0.00196705, 0.00221293, 0.00122941,\n",
       "        0.00153676, 0.0016597 , 0.00233587, 0.00147529, 0.00092206,\n",
       "        0.00190558, 0.0022744 , 0.00202852, 0.00135235, 0.00172117]),\n",
       " array([ 0. ,  0.1,  0.2,  0.3,  0.4,  0.5,  0.6,  0.7,  0.8,  0.9,  1. ,\n",
       "         1.1,  1.2,  1.3,  1.4,  1.5,  1.6,  1.7,  1.8,  1.9,  2. ,  2.1,\n",
       "         2.2,  2.3,  2.4,  2.5,  2.6,  2.7,  2.8,  2.9,  3. ,  3.1,  3.2,\n",
       "         3.3,  3.4,  3.5,  3.6,  3.7,  3.8,  3.9,  4. ,  4.1,  4.2,  4.3,\n",
       "         4.4,  4.5,  4.6,  4.7,  4.8,  4.9,  5. ,  5.1,  5.2,  5.3,  5.4,\n",
       "         5.5,  5.6,  5.7,  5.8,  5.9,  6. ,  6.1,  6.2,  6.3,  6.4,  6.5,\n",
       "         6.6,  6.7,  6.8,  6.9,  7. ,  7.1,  7.2,  7.3,  7.4,  7.5,  7.6,\n",
       "         7.7,  7.8,  7.9,  8. ,  8.1,  8.2,  8.3,  8.4,  8.5,  8.6,  8.7,\n",
       "         8.8,  8.9,  9. ,  9.1,  9.2,  9.3,  9.4,  9.5,  9.6,  9.7,  9.8,\n",
       "         9.9, 10. , 10.1, 10.2, 10.3, 10.4, 10.5, 10.6, 10.7, 10.8, 10.9,\n",
       "        11. , 11.1, 11.2, 11.3, 11.4, 11.5, 11.6, 11.7, 11.8, 11.9, 12. ,\n",
       "        12.1, 12.2, 12.3, 12.4, 12.5, 12.6, 12.7, 12.8, 12.9, 13. , 13.1,\n",
       "        13.2, 13.3, 13.4, 13.5, 13.6, 13.7, 13.8, 13.9, 14. , 14.1, 14.2,\n",
       "        14.3, 14.4, 14.5, 14.6, 14.7, 14.8, 14.9, 15. ]),\n",
       " [<matplotlib.patches.Polygon at 0x26f84c75c70>])"
      ]
     },
     "execution_count": 34,
     "metadata": {},
     "output_type": "execute_result"
    },
    {
     "data": {
      "image/png": "[encoded data removed]",
      "text/plain": [
       "<Figure size 640x480 with 1 Axes>"
      ]
     },
     "metadata": {},
     "output_type": "display_data"
    }
   ],
   "source": [
    "plt.hist(tracks_rms,range=(0,10),histtype='step',bins=100,weights=(np.ones_like(tracks_rms)/np.size(tracks_rms)))\n",
    "plt.hist(showers_rms,range=(0,15),histtype='step',bins=150,weights=(np.ones_like(showers_rms)/np.size(showers_rms)))"
   ]
  },
  {
   "cell_type": "code",
   "execution_count": 35,
   "metadata": {},
   "outputs": [
    {
     "data": {
      "text/plain": [
       "(array([0.03891075, 0.03128842, 0.03079666, 0.02710843, 0.02249816,\n",
       "        0.0205311 , 0.0193017 , 0.01850258, 0.01702729, 0.015552  ,\n",
       "        0.01364642, 0.01481436, 0.01524465, 0.01131055, 0.01210966,\n",
       "        0.01192525, 0.01020408, 0.01026555, 0.0105729 , 0.01063437,\n",
       "        0.00983526, 0.00915909, 0.00823703, 0.00879026, 0.00756086,\n",
       "        0.00799115, 0.00792968, 0.00872879, 0.00835997, 0.00756086,\n",
       "        0.00596263, 0.00713056, 0.00626998, 0.00688468, 0.00762233,\n",
       "        0.00676174, 0.00743791, 0.00565527, 0.00626998, 0.00491763,\n",
       "        0.00510204, 0.00565527, 0.00516351, 0.00504057, 0.00510204,\n",
       "        0.00485616, 0.0049791 , 0.00522498, 0.00510204, 0.0060241 ,\n",
       "        0.00442587, 0.00510204, 0.00522498, 0.00387263, 0.00461028,\n",
       "        0.00399557, 0.0049791 , 0.00448734, 0.0033194 , 0.00424146,\n",
       "        0.00368822, 0.00381116, 0.00325793, 0.00356528, 0.00411851,\n",
       "        0.00338087, 0.00295058, 0.00338087, 0.00258176, 0.00319646,\n",
       "        0.0027047 , 0.0027047 , 0.00344234, 0.00276617, 0.00344234,\n",
       "        0.00233587, 0.00319646, 0.00282764, 0.0033194 , 0.00288911,\n",
       "        0.00301205, 0.00319646, 0.00295058, 0.00350381, 0.00381116,\n",
       "        0.00338087, 0.00252029, 0.00264323, 0.00233587, 0.00196705,\n",
       "        0.00313499, 0.00245881, 0.00276617, 0.0027047 , 0.00276617,\n",
       "        0.00252029, 0.00221293, 0.00202852, 0.0016597 , 0.00252029,\n",
       "        0.00221293, 0.00184411, 0.00202852, 0.00319646, 0.00178264,\n",
       "        0.0022744 , 0.00208999, 0.00184411, 0.00184411, 0.0016597 ,\n",
       "        0.00190558, 0.00190558, 0.00245881, 0.00135235, 0.00159823,\n",
       "        0.00196705, 0.00196705, 0.00159823, 0.00178264, 0.0016597 ,\n",
       "        0.00184411, 0.00184411, 0.00190558, 0.00196705, 0.00172117,\n",
       "        0.00135235, 0.00147529, 0.00135235, 0.00122941, 0.00147529,\n",
       "        0.00190558, 0.00116794, 0.00196705, 0.00141382, 0.00147529,\n",
       "        0.00208999, 0.00172117, 0.00116794, 0.00190558, 0.001045  ]),\n",
       " array([ 1. ,  1.1,  1.2,  1.3,  1.4,  1.5,  1.6,  1.7,  1.8,  1.9,  2. ,\n",
       "         2.1,  2.2,  2.3,  2.4,  2.5,  2.6,  2.7,  2.8,  2.9,  3. ,  3.1,\n",
       "         3.2,  3.3,  3.4,  3.5,  3.6,  3.7,  3.8,  3.9,  4. ,  4.1,  4.2,\n",
       "         4.3,  4.4,  4.5,  4.6,  4.7,  4.8,  4.9,  5. ,  5.1,  5.2,  5.3,\n",
       "         5.4,  5.5,  5.6,  5.7,  5.8,  5.9,  6. ,  6.1,  6.2,  6.3,  6.4,\n",
       "         6.5,  6.6,  6.7,  6.8,  6.9,  7. ,  7.1,  7.2,  7.3,  7.4,  7.5,\n",
       "         7.6,  7.7,  7.8,  7.9,  8. ,  8.1,  8.2,  8.3,  8.4,  8.5,  8.6,\n",
       "         8.7,  8.8,  8.9,  9. ,  9.1,  9.2,  9.3,  9.4,  9.5,  9.6,  9.7,\n",
       "         9.8,  9.9, 10. , 10.1, 10.2, 10.3, 10.4, 10.5, 10.6, 10.7, 10.8,\n",
       "        10.9, 11. , 11.1, 11.2, 11.3, 11.4, 11.5, 11.6, 11.7, 11.8, 11.9,\n",
       "        12. , 12.1, 12.2, 12.3, 12.4, 12.5, 12.6, 12.7, 12.8, 12.9, 13. ,\n",
       "        13.1, 13.2, 13.3, 13.4, 13.5, 13.6, 13.7, 13.8, 13.9, 14. , 14.1,\n",
       "        14.2, 14.3, 14.4, 14.5, 14.6, 14.7, 14.8, 14.9, 15. ]),\n",
       " [<matplotlib.patches.Polygon at 0x26f84d089a0>])"
      ]
     },
     "execution_count": 35,
     "metadata": {},
     "output_type": "execute_result"
    },
    {
     "data": {
      "image/png": "[encoded data removed]",
      "text/plain": [
       "<Figure size 640x480 with 1 Axes>"
      ]
     },
     "metadata": {},
     "output_type": "display_data"
    }
   ],
   "source": [
    "plt.hist(tracks_sinousity,range=(1,5),histtype='step',bins=40,weights=(np.ones_like(tracks_sinousity)/np.size(tracks_sinousity)))\n",
    "plt.hist(showers_sinousity,range=(1,15),histtype='step',bins=140,weights=(np.ones_like(showers_sinousity)/np.size(showers_sinousity)))"
   ]
  },
  {
   "cell_type": "code",
   "execution_count": 38,
   "metadata": {},
   "outputs": [],
   "source": [
    "tracks_length = [particle__w(i) for i in tracks]\n",
    "showers_length = [particle_disp_w(i) for i in showers]"
   ]
  },
  {
   "cell_type": "code",
   "execution_count": 42,
   "metadata": {},
   "outputs": [
    {
     "data": {
      "text/plain": [
       "(array([1.98549299e-02, 3.22104746e-02, 2.77231374e-02, 3.08581264e-02,\n",
       "        3.19645931e-02, 3.21490042e-02, 3.38087042e-02, 3.22719449e-02,\n",
       "        3.09810671e-02, 2.91984264e-02, 2.73543152e-02, 2.77231374e-02,\n",
       "        2.78460782e-02, 2.58790263e-02, 2.32358003e-02, 2.49569707e-02,\n",
       "        2.36046226e-02, 2.21293337e-02, 2.12072781e-02, 2.02852225e-02,\n",
       "        2.08384559e-02, 1.90558151e-02, 1.89943447e-02, 1.75805262e-02,\n",
       "        1.79493484e-02, 1.64125891e-02, 1.74575854e-02, 1.60437669e-02,\n",
       "        1.51831817e-02, 1.27858372e-02, 1.48143595e-02, 1.40767150e-02,\n",
       "        1.36464224e-02, 1.33390706e-02, 1.16793705e-02, 1.37078928e-02,\n",
       "        1.19867224e-02, 1.27243669e-02, 1.00811409e-02, 9.83525940e-03,\n",
       "        9.40496681e-03, 1.07573150e-02, 8.97467421e-03, 8.85173346e-03,\n",
       "        8.91320384e-03, 8.42144087e-03, 8.29850012e-03, 8.79026309e-03,\n",
       "        5.71674453e-03, 5.90115564e-03, 7.00762233e-03, 5.96262601e-03,\n",
       "        5.16351119e-03, 5.16351119e-03, 4.54880747e-03, 3.56528153e-03,\n",
       "        3.56528153e-03, 3.25792968e-03, 1.96705188e-03, 2.27440374e-03,\n",
       "        2.70469634e-03, 2.64322597e-03, 2.21293337e-03, 2.08999262e-03,\n",
       "        1.90558151e-03, 2.21293337e-03, 1.29087780e-03, 9.83525940e-04,\n",
       "        1.16793705e-03, 1.29087780e-03, 8.60585198e-04, 1.10646668e-03,\n",
       "        6.14703713e-04, 6.76174084e-04, 4.91762970e-04, 7.99114827e-04,\n",
       "        3.68822228e-04, 3.68822228e-04, 3.07351856e-04, 5.53233342e-04,\n",
       "        1.84411114e-04, 3.68822228e-04, 1.84411114e-04, 1.84411114e-04,\n",
       "        1.84411114e-04, 1.84411114e-04, 3.07351856e-04, 1.84411114e-04,\n",
       "        1.84411114e-04, 1.84411114e-04, 1.84411114e-04, 1.22940743e-04,\n",
       "        6.14703713e-05, 1.84411114e-04, 1.22940743e-04, 1.22940743e-04,\n",
       "        1.22940743e-04, 1.22940743e-04, 1.22940743e-04, 6.14703713e-05,\n",
       "        0.00000000e+00, 1.22940743e-04, 6.14703713e-05, 6.14703713e-05,\n",
       "        1.84411114e-04, 0.00000000e+00, 0.00000000e+00, 6.14703713e-05,\n",
       "        0.00000000e+00, 0.00000000e+00, 6.14703713e-05, 6.14703713e-05,\n",
       "        6.14703713e-05, 0.00000000e+00, 6.14703713e-05, 6.14703713e-05,\n",
       "        0.00000000e+00, 0.00000000e+00, 0.00000000e+00, 0.00000000e+00,\n",
       "        0.00000000e+00, 6.14703713e-05, 6.14703713e-05, 0.00000000e+00,\n",
       "        6.14703713e-05, 1.22940743e-04, 0.00000000e+00, 6.14703713e-05,\n",
       "        0.00000000e+00, 0.00000000e+00, 0.00000000e+00, 6.14703713e-05,\n",
       "        6.14703713e-05, 0.00000000e+00, 0.00000000e+00, 6.14703713e-05,\n",
       "        0.00000000e+00, 0.00000000e+00, 0.00000000e+00, 0.00000000e+00,\n",
       "        0.00000000e+00, 0.00000000e+00, 6.14703713e-05, 0.00000000e+00,\n",
       "        6.14703713e-05, 6.14703713e-05, 0.00000000e+00, 0.00000000e+00,\n",
       "        6.14703713e-05, 0.00000000e+00, 0.00000000e+00, 0.00000000e+00,\n",
       "        0.00000000e+00, 0.00000000e+00, 0.00000000e+00, 1.22940743e-04,\n",
       "        0.00000000e+00, 0.00000000e+00, 0.00000000e+00, 0.00000000e+00,\n",
       "        0.00000000e+00, 0.00000000e+00, 6.14703713e-05, 0.00000000e+00,\n",
       "        0.00000000e+00, 0.00000000e+00, 0.00000000e+00, 6.14703713e-05,\n",
       "        0.00000000e+00, 0.00000000e+00, 0.00000000e+00, 0.00000000e+00,\n",
       "        0.00000000e+00, 0.00000000e+00, 0.00000000e+00, 0.00000000e+00,\n",
       "        0.00000000e+00, 0.00000000e+00, 0.00000000e+00, 0.00000000e+00,\n",
       "        0.00000000e+00, 0.00000000e+00, 0.00000000e+00, 6.14703713e-05,\n",
       "        0.00000000e+00, 0.00000000e+00, 0.00000000e+00, 0.00000000e+00,\n",
       "        0.00000000e+00, 0.00000000e+00, 0.00000000e+00, 0.00000000e+00,\n",
       "        0.00000000e+00, 6.14703713e-05, 0.00000000e+00, 0.00000000e+00,\n",
       "        0.00000000e+00, 0.00000000e+00, 0.00000000e+00, 6.14703713e-05]),\n",
       " array([   1.76468932,    7.1417514 ,   12.51881347,   17.89587554,\n",
       "          23.27293762,   28.64999969,   34.02706176,   39.40412383,\n",
       "          44.78118591,   50.15824798,   55.53531005,   60.91237213,\n",
       "          66.2894342 ,   71.66649627,   77.04355835,   82.42062042,\n",
       "          87.79768249,   93.17474457,   98.55180664,  103.92886871,\n",
       "         109.30593079,  114.68299286,  120.06005493,  125.43711701,\n",
       "         130.81417908,  136.19124115,  141.56830323,  146.9453653 ,\n",
       "         152.32242737,  157.69948944,  163.07655152,  168.45361359,\n",
       "         173.83067566,  179.20773774,  184.58479981,  189.96186188,\n",
       "         195.33892396,  200.71598603,  206.0930481 ,  211.47011018,\n",
       "         216.84717225,  222.22423432,  227.6012964 ,  232.97835847,\n",
       "         238.35542054,  243.73248262,  249.10954469,  254.48660676,\n",
       "         259.86366884,  265.24073091,  270.61779298,  275.99485505,\n",
       "         281.37191713,  286.7489792 ,  292.12604127,  297.50310335,\n",
       "         302.88016542,  308.25722749,  313.63428957,  319.01135164,\n",
       "         324.38841371,  329.76547579,  335.14253786,  340.51959993,\n",
       "         345.89666201,  351.27372408,  356.65078615,  362.02784823,\n",
       "         367.4049103 ,  372.78197237,  378.15903445,  383.53609652,\n",
       "         388.91315859,  394.29022066,  399.66728274,  405.04434481,\n",
       "         410.42140688,  415.79846896,  421.17553103,  426.5525931 ,\n",
       "         431.92965518,  437.30671725,  442.68377932,  448.0608414 ,\n",
       "         453.43790347,  458.81496554,  464.19202762,  469.56908969,\n",
       "         474.94615176,  480.32321384,  485.70027591,  491.07733798,\n",
       "         496.45440006,  501.83146213,  507.2085242 ,  512.58558627,\n",
       "         517.96264835,  523.33971042,  528.71677249,  534.09383457,\n",
       "         539.47089664,  544.84795871,  550.22502079,  555.60208286,\n",
       "         560.97914493,  566.35620701,  571.73326908,  577.11033115,\n",
       "         582.48739323,  587.8644553 ,  593.24151737,  598.61857945,\n",
       "         603.99564152,  609.37270359,  614.74976567,  620.12682774,\n",
       "         625.50388981,  630.88095188,  636.25801396,  641.63507603,\n",
       "         647.0121381 ,  652.38920018,  657.76626225,  663.14332432,\n",
       "         668.5203864 ,  673.89744847,  679.27451054,  684.65157262,\n",
       "         690.02863469,  695.40569676,  700.78275884,  706.15982091,\n",
       "         711.53688298,  716.91394506,  722.29100713,  727.6680692 ,\n",
       "         733.04513128,  738.42219335,  743.79925542,  749.17631749,\n",
       "         754.55337957,  759.93044164,  765.30750371,  770.68456579,\n",
       "         776.06162786,  781.43868993,  786.81575201,  792.19281408,\n",
       "         797.56987615,  802.94693823,  808.3240003 ,  813.70106237,\n",
       "         819.07812445,  824.45518652,  829.83224859,  835.20931067,\n",
       "         840.58637274,  845.96343481,  851.34049689,  856.71755896,\n",
       "         862.09462103,  867.4716831 ,  872.84874518,  878.22580725,\n",
       "         883.60286932,  888.9799314 ,  894.35699347,  899.73405554,\n",
       "         905.11111762,  910.48817969,  915.86524176,  921.24230384,\n",
       "         926.61936591,  931.99642798,  937.37349006,  942.75055213,\n",
       "         948.1276142 ,  953.50467628,  958.88173835,  964.25880042,\n",
       "         969.6358625 ,  975.01292457,  980.38998664,  985.76704871,\n",
       "         991.14411079,  996.52117286, 1001.89823493, 1007.27529701,\n",
       "        1012.65235908, 1018.02942115, 1023.40648323, 1028.7835453 ,\n",
       "        1034.16060737, 1039.53766945, 1044.91473152, 1050.29179359,\n",
       "        1055.66885567, 1061.04591774, 1066.42297981, 1071.80004189,\n",
       "        1077.17710396]),\n",
       " [<matplotlib.patches.Polygon at 0x26f84f5ebb0>])"
      ]
     },
     "execution_count": 42,
     "metadata": {},
     "output_type": "execute_result"
    },
    {
     "data": {
      "image/png": "[encoded data removed]",
      "text/plain": [
       "<Figure size 640x480 with 1 Axes>"
      ]
     },
     "metadata": {},
     "output_type": "display_data"
    }
   ],
   "source": [
    "plt.hist(tracks_length,histtype='step',bins=200,weights=(np.ones_like(tracks_length)/np.size(tracks_length)))\n",
    "plt.hist(showers_length,histtype='step',bins=200,weights=(np.ones_like(showers_length)/np.size(showers_length)))"
   ]
  }
 ],
 "metadata": {
  "kernelspec": {
   "display_name": "Python 3.9.13 ('base')",
   "language": "python",
   "name": "python3"
  },
  "language_info": {
   "codemirror_mode": {
    "name": "ipython",
    "version": 3
   },
   "file_extension": ".py",
   "mimetype": "text/x-python",
   "name": "python",
   "nbconvert_exporter": "python",
   "pygments_lexer": "ipython3",
   "version": "3.9.13"
  },
  "orig_nbformat": 4,
  "vscode": {
   "interpreter": {
    "hash": "f1c6bf40d51fdecaf38b6934c44b6578588462b0d1bddfc35f41de66fc8e0c13"
   }
  }
 },
 "nbformat": 4,
 "nbformat_minor": 2
}
