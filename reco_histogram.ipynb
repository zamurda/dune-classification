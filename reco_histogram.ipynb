{
 "cells": [
  {
   "cell_type": "code",
   "execution_count": 1,
   "id": "339b553c",
   "metadata": {},
   "outputs": [],
   "source": [
    "from uproot_io import Events, View\n",
    "import numpy as np\n",
    "import csv\n",
    "import matplotlib\n",
    "import matplotlib.pyplot as plt\n",
    "\n",
    "interaction_dictionary = {}\n",
    "with open('interactions.csv') as f:\n",
    "    reader = csv.DictReader(f)\n",
    "    for row in reader:\n",
    "        key = int(row.pop('Idx'))\n",
    "        interaction = row.pop('Interaction')\n",
    "        interaction_dictionary[key] = interaction\n",
    "        \n",
    "particle_id_dict = {-2212:\"ANTIPROTON\", -321:\"KAON -\", -211:\"PION -\", -13:\"MUON -\", -11:\"ELECTRON\", 0:\"NO BEST MATCH\", 11:\"POSTIRON\", 13:\"MUON +\", 22:\"GAMMA\", 211:\"PION +\", 321:\"KAON +\", 2212:\"PROTON\", 3112:\"SIGMA -\", 3222:\"SIGMA +\"}"
   ]
  },
  {
   "cell_type": "code",
   "execution_count": 2,
   "id": "bad9b63d",
   "metadata": {},
   "outputs": [],
   "source": [
    "filename=\"projects\\CheatedRecoFile_1.root\"\n",
    "events = Events(filename)"
   ]
  },
  {
   "cell_type": "code",
   "execution_count": 3,
   "id": "a899b2b3",
   "metadata": {},
   "outputs": [],
   "source": [
    "def num_particles_in_event(num_event):\n",
    "    events.event_number[num_event]\n",
    "    idx = np.where(events.event_number == num_event)\n",
    "    print(\"particles\",idx[0][0],\"to\",idx[0][np.size(idx)-1],\"in event\",num_event)"
   ]
  },
  {
   "cell_type": "code",
   "execution_count": 4,
   "id": "c5cad7c2",
   "metadata": {},
   "outputs": [
    {
     "name": "stdout",
     "output_type": "stream",
     "text": [
      "particles 515779 to 516044 in event 9309\n"
     ]
    }
   ],
   "source": [
    "num_particles_in_event(9309)"
   ]
  },
  {
   "cell_type": "code",
   "execution_count": 5,
   "id": "39a8ebc0",
   "metadata": {},
   "outputs": [
    {
     "name": "stdout",
     "output_type": "stream",
     "text": [
      "[-2212  -321  -211   -13   -11     0    11    13    22   211   321  2212\n",
      "  3112  3222]\n",
      "ANTIPROTON\n"
     ]
    }
   ],
   "source": [
    "particle_id_list = [events.mc_pdg[i] for i in range(516044) if (events.reco_num_hits_w[i] > 15)]\n",
    "particle_id_list= np.unique(particle_id_list)\n",
    "print(particle_id_list)\n",
    "print(particle_id_dict[-2212])"
   ]
  },
  {
   "cell_type": "code",
   "execution_count": 6,
   "id": "2fb2430e",
   "metadata": {},
   "outputs": [],
   "source": [
    "def plot_event_particle_w(num_particle):\n",
    "    hits_x_w=np.array([])\n",
    "    hits_x=np.array([])\n",
    "    hits_adcs=np.array([])\n",
    "    for i in range(events.reco_num_hits_w[num_particle]):\n",
    "        hits_x = np.append(hits_x, events.reco_hits_w[num_particle][i])\n",
    "        hits_x_w = np.append(hits_x_w, events.reco_hits_x_w[num_particle][i])\n",
    "        hits_adcs = np.append(hits_adcs, events.reco_adcs_w[num_particle][i])\n",
    "    hits_bf = np.polyfit(hits_x,hits_x_w,1)\n",
    "    hits_x_w_fit= [hits_bf[1] + i * hits_bf[0] for i in hits_x]\n",
    "    #plt.plot([hits_x[0],hits_x[-1]],[hits_x_w_fit[0],hits_x_w_fit[-1]])\n",
    "    plt.plot(hits_x,hits_x_w_fit)\n",
    "    plt.scatter(hits_x,hits_x_w,s=8,c=hits_adcs,cmap='hot')\n",
    "    \n",
    "        \n",
    "    \n",
    "    "
   ]
  },
  {
   "cell_type": "code",
   "execution_count": 7,
   "id": "828a63d7",
   "metadata": {},
   "outputs": [],
   "source": [
    "def particle_norm_w(num_particle):\n",
    "    hits_x_w=np.array([])\n",
    "    hits_x=np.array([])\n",
    "    for i in range(events.reco_num_hits_w[num_particle]):\n",
    "        hits_x = np.append(hits_x, events.reco_hits_w[num_particle][i])\n",
    "        hits_x_w = np.append(hits_x_w, events.reco_hits_x_w[num_particle][i])\n",
    "    hits_bf = np.polyfit(hits_x,hits_x_w,1)\n",
    "    hits_x_w_fit= [i * hits_bf[0] + hits_bf[1] for i in hits_x]\n",
    "    residuals = np.subtract(hits_x_w,hits_x_w_fit)\n",
    "    rms = np.std(residuals)\n",
    "    n_variance = np.sum(np.square(residuals))\n",
    "    n_rms = rms * np.size(hits_x)\n",
    "    rms_div_nhits = rms/np.size(hits_x)\n",
    "    rms_div_length=rms/abs(hits_x[0]-hits_x[-1])\n",
    "    return rms,n_variance,n_rms,rms_div_nhits,rms_div_length\n",
    "    \n",
    "    "
   ]
  },
  {
   "cell_type": "code",
   "execution_count": 8,
   "id": "30887ba2",
   "metadata": {
    "scrolled": true
   },
   "outputs": [
    {
     "name": "stdout",
     "output_type": "stream",
     "text": [
      "(0.4050653337020753, 3.6097143404778205, 8.911437341445657, 0.018412060622821604, 0.060403477053770346)\n",
      "PROTON\n"
     ]
    },
    {
     "data": {
      "image/png": "[encoded data removed]",
      "text/plain": [
       "<Figure size 640x480 with 1 Axes>"
      ]
     },
     "metadata": {},
     "output_type": "display_data"
    }
   ],
   "source": [
    "\n",
    "particle = 31\n",
    "\n",
    "plot_event_particle_w(particle)\n",
    "print(particle_norm_w(particle))\n",
    "\n",
    "print(particle_id_dict[events.mc_pdg[particle]])\n",
    "# rms has some issues compare particle 29 and 31\n",
    "# rms particle 40\n"
   ]
  },
  {
   "cell_type": "code",
   "execution_count": 28,
   "id": "3b3177a8",
   "metadata": {},
   "outputs": [],
   "source": [
    "n_particles = 20000\n",
    "min_hits = 15\n",
    "\n",
    "def reco_data(metric,filtering): \n",
    "    particle_norms = [particle_norm_w(i)[metric] for i in range(n_particles) if (events.reco_num_hits_w[i] > min_hits)]\n",
    "    particle_id = [events.mc_pdg[i] for i in range(n_particles) if (events.reco_num_hits_w[i] > min_hits)]\n",
    "    p_data = np.dstack((particle_norms,particle_id))[0]\n",
    "    #sorting data\n",
    "    p_data = p_data[p_data[:, 0].argsort()]\n",
    "    \n",
    "    # particle filtering\n",
    "    if filtering == True:\n",
    "        mean = np.mean(particle_norms)\n",
    "        std = np.std(particle_norms)\n",
    "        #print(mean,std)\n",
    "        sensitivity=[mean+5.0*std,mean+1.8*std,mean+4*std,mean+8*std,mean+8*std]\n",
    "        for i in range(np.size(particle_norms)):\n",
    "            if p_data[i][0] > sensitivity[metric]:\n",
    "                p_data = p_data[:i]\n",
    "                break\n",
    "    \n",
    "    # bins in histogram    \n",
    "    bins = 10\n",
    "    bins_array = [(i/bins)*(p_data.max(axis=0)[0]) for i in range(bins+1)]\n",
    "    k = 0\n",
    "    for i in range(1,bins+1):\n",
    "        particle_type = np.array([])\n",
    "        p_norm = np.array([])\n",
    "        while p_data[k][0] < bins_array[i]:\n",
    "            particle_type = np.append(particle_type,p_data[k][1])\n",
    "            p_norm = np.append(p_norm,p_data[k][0])\n",
    "            k = k + 1\n",
    "        if k == np.size(np.concatenate(np.hsplit(p_data,2)[0])) - 1 :\n",
    "            particle_type = np.append(particle_type,p_data[k][1])\n",
    "            p_norm = np.append(p_norm,p_data[k][0])\n",
    "            \n",
    "        npart = np.size(particle_type)    \n",
    "        plen = np.size(np.unique(particle_type))\n",
    "        particle_type = np.unique(particle_type,return_counts=True)\n",
    "        print(\"In Bin\",i,\"there are\",npart,\"particles which are:\")\n",
    "        for j in range(plen):\n",
    "            print(particle_type[1][j],particle_id_dict[particle_type[0][j]],end = \" ;\")\n",
    "        print(\"\\n\")\n",
    "    \n",
    "    plt.hist(np.concatenate(np.hsplit(p_data,2)[0]),bins_array)"
   ]
  },
  {
   "cell_type": "code",
   "execution_count": 29,
   "id": "59a4d777",
   "metadata": {},
   "outputs": [
    {
     "name": "stdout",
     "output_type": "stream",
     "text": [
      "In Bin 1 there are 1218 particles which are:\n",
      "2 KAON - ;165 PION - ;15 MUON - ;33 ELECTRON ;193 NO BEST MATCH ;9 POSTIRON ;149 MUON + ;39 GAMMA ;215 PION + ;9 KAON + ;389 PROTON ;\n",
      "\n",
      "In Bin 2 there are 280 particles which are:\n",
      "11 PION - ;1 MUON - ;19 ELECTRON ;84 NO BEST MATCH ;5 POSTIRON ;49 MUON + ;102 GAMMA ;8 PION + ;1 KAON + ;\n",
      "\n",
      "In Bin 3 there are 191 particles which are:\n",
      "1 KAON - ;1 PION - ;1 MUON - ;13 ELECTRON ;68 NO BEST MATCH ;2 POSTIRON ;14 MUON + ;84 GAMMA ;6 PION + ;1 KAON + ;\n",
      "\n",
      "In Bin 4 there are 121 particles which are:\n",
      "1 PION - ;4 ELECTRON ;36 NO BEST MATCH ;2 POSTIRON ;4 MUON + ;71 GAMMA ;3 PION + ;\n",
      "\n",
      "In Bin 5 there are 56 particles which are:\n",
      "2 ELECTRON ;20 NO BEST MATCH ;2 MUON + ;31 GAMMA ;1 PION + ;\n",
      "\n",
      "In Bin 6 there are 20 particles which are:\n",
      "2 ELECTRON ;9 NO BEST MATCH ;9 GAMMA ;\n",
      "\n",
      "In Bin 7 there are 17 particles which are:\n",
      "8 NO BEST MATCH ;7 GAMMA ;2 PION + ;\n",
      "\n",
      "In Bin 8 there are 16 particles which are:\n",
      "1 ELECTRON ;6 NO BEST MATCH ;1 POSTIRON ;8 GAMMA ;\n",
      "\n",
      "In Bin 9 there are 6 particles which are:\n",
      "5 NO BEST MATCH ;1 GAMMA ;\n",
      "\n",
      "In Bin 10 there are 2 particles which are:\n",
      "1 NO BEST MATCH ;1 GAMMA ;\n",
      "\n"
     ]
    },
    {
     "data": {
      "image/png": "[encoded data removed]",
      "text/plain": [
       "<Figure size 640x480 with 1 Axes>"
      ]
     },
     "metadata": {},
     "output_type": "display_data"
    }
   ],
   "source": [
    "#plot_reco_data(metric,filtering) plots a histogram of the particles with the following metric.\n",
    "#Filtering = True filters data.\n",
    "#metric = 0 is rms; metric = 1 is n*variance; metric = 2 is n*rms; metric = 3 is rms/nhits; metric = 4 is rms/length\n",
    "reco_data(0,True)"
   ]
  },
  {
   "cell_type": "code",
   "execution_count": 30,
   "id": "13a36f11",
   "metadata": {},
   "outputs": [
    {
     "name": "stdout",
     "output_type": "stream",
     "text": [
      "In Bin 1 there are 1606 particles which are:\n",
      "3 KAON - ;178 PION - ;16 MUON - ;71 ELECTRON ;347 NO BEST MATCH ;16 POSTIRON ;146 MUON + ;198 GAMMA ;231 PION + ;11 KAON + ;389 PROTON ;\n",
      "\n",
      "In Bin 2 there are 113 particles which are:\n",
      "2 ELECTRON ;33 NO BEST MATCH ;2 POSTIRON ;25 MUON + ;50 GAMMA ;1 PION + ;\n",
      "\n",
      "In Bin 3 there are 54 particles which are:\n",
      "1 ELECTRON ;15 NO BEST MATCH ;9 MUON + ;28 GAMMA ;1 PION + ;\n",
      "\n",
      "In Bin 4 there are 36 particles which are:\n",
      "8 NO BEST MATCH ;9 MUON + ;19 GAMMA ;\n",
      "\n",
      "In Bin 5 there are 26 particles which are:\n",
      "7 NO BEST MATCH ;3 MUON + ;16 GAMMA ;\n",
      "\n",
      "In Bin 6 there are 16 particles which are:\n",
      "9 NO BEST MATCH ;1 MUON + ;6 GAMMA ;\n",
      "\n",
      "In Bin 7 there are 10 particles which are:\n",
      "1 NO BEST MATCH ;1 POSTIRON ;2 MUON + ;4 GAMMA ;2 PION + ;\n",
      "\n",
      "In Bin 8 there are 13 particles which are:\n",
      "2 NO BEST MATCH ;2 MUON + ;9 GAMMA ;\n",
      "\n",
      "In Bin 9 there are 5 particles which are:\n",
      "2 MUON + ;3 GAMMA ;\n",
      "\n",
      "In Bin 10 there are 9 particles which are:\n",
      "2 NO BEST MATCH ;2 MUON + ;5 GAMMA ;\n",
      "\n"
     ]
    },
    {
     "data": {
      "image/png": "[encoded data removed]",
      "text/plain": [
       "<Figure size 640x480 with 1 Axes>"
      ]
     },
     "metadata": {},
     "output_type": "display_data"
    }
   ],
   "source": [
    "reco_data(1,True)"
   ]
  },
  {
   "cell_type": "code",
   "execution_count": null,
   "id": "5bdc971c",
   "metadata": {},
   "outputs": [],
   "source": []
  }
 ],
 "metadata": {
  "kernelspec": {
   "display_name": "Python 3 (ipykernel)",
   "language": "python",
   "name": "python3"
  },
  "language_info": {
   "codemirror_mode": {
    "name": "ipython",
    "version": 3
   },
   "file_extension": ".py",
   "mimetype": "text/x-python",
   "name": "python",
   "nbconvert_exporter": "python",
   "pygments_lexer": "ipython3",
   "version": "3.9.13"
  }
 },
 "nbformat": 4,
 "nbformat_minor": 5
}
